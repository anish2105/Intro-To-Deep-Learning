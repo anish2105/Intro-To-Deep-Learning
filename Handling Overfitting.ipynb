{
 "cells": [
  {
   "cell_type": "markdown",
   "metadata": {},
   "source": [
    "# Handling Overfitting in Deep Neutral Network"
   ]
  },
  {
   "cell_type": "code",
   "execution_count": 1,
   "metadata": {},
   "outputs": [],
   "source": [
    "import numpy as np\n",
    "import pandas as pd"
   ]
  },
  {
   "cell_type": "code",
   "execution_count": 2,
   "metadata": {},
   "outputs": [
    {
     "data": {
      "text/html": [
       "<div>\n",
       "<style scoped>\n",
       "    .dataframe tbody tr th:only-of-type {\n",
       "        vertical-align: middle;\n",
       "    }\n",
       "\n",
       "    .dataframe tbody tr th {\n",
       "        vertical-align: top;\n",
       "    }\n",
       "\n",
       "    .dataframe thead th {\n",
       "        text-align: right;\n",
       "    }\n",
       "</style>\n",
       "<table border=\"1\" class=\"dataframe\">\n",
       "  <thead>\n",
       "    <tr style=\"text-align: right;\">\n",
       "      <th></th>\n",
       "      <th>0</th>\n",
       "      <th>1</th>\n",
       "      <th>2</th>\n",
       "      <th>3</th>\n",
       "      <th>4</th>\n",
       "      <th>5</th>\n",
       "      <th>6</th>\n",
       "      <th>7</th>\n",
       "      <th>8</th>\n",
       "      <th>9</th>\n",
       "      <th>...</th>\n",
       "      <th>51</th>\n",
       "      <th>52</th>\n",
       "      <th>53</th>\n",
       "      <th>54</th>\n",
       "      <th>55</th>\n",
       "      <th>56</th>\n",
       "      <th>57</th>\n",
       "      <th>58</th>\n",
       "      <th>59</th>\n",
       "      <th>60</th>\n",
       "    </tr>\n",
       "  </thead>\n",
       "  <tbody>\n",
       "    <tr>\n",
       "      <th>129</th>\n",
       "      <td>0.1371</td>\n",
       "      <td>0.1226</td>\n",
       "      <td>0.1385</td>\n",
       "      <td>0.1484</td>\n",
       "      <td>0.1776</td>\n",
       "      <td>0.1428</td>\n",
       "      <td>0.1773</td>\n",
       "      <td>0.2161</td>\n",
       "      <td>0.1630</td>\n",
       "      <td>0.2067</td>\n",
       "      <td>...</td>\n",
       "      <td>0.0118</td>\n",
       "      <td>0.0129</td>\n",
       "      <td>0.0344</td>\n",
       "      <td>0.0065</td>\n",
       "      <td>0.0067</td>\n",
       "      <td>0.0022</td>\n",
       "      <td>0.0079</td>\n",
       "      <td>0.0146</td>\n",
       "      <td>0.0051</td>\n",
       "      <td>Mine</td>\n",
       "    </tr>\n",
       "    <tr>\n",
       "      <th>26</th>\n",
       "      <td>0.0151</td>\n",
       "      <td>0.0320</td>\n",
       "      <td>0.0599</td>\n",
       "      <td>0.1050</td>\n",
       "      <td>0.1163</td>\n",
       "      <td>0.1734</td>\n",
       "      <td>0.1679</td>\n",
       "      <td>0.1119</td>\n",
       "      <td>0.0889</td>\n",
       "      <td>0.1205</td>\n",
       "      <td>...</td>\n",
       "      <td>0.0061</td>\n",
       "      <td>0.0015</td>\n",
       "      <td>0.0084</td>\n",
       "      <td>0.0128</td>\n",
       "      <td>0.0054</td>\n",
       "      <td>0.0011</td>\n",
       "      <td>0.0019</td>\n",
       "      <td>0.0023</td>\n",
       "      <td>0.0062</td>\n",
       "      <td>Rock</td>\n",
       "    </tr>\n",
       "    <tr>\n",
       "      <th>63</th>\n",
       "      <td>0.0067</td>\n",
       "      <td>0.0096</td>\n",
       "      <td>0.0024</td>\n",
       "      <td>0.0058</td>\n",
       "      <td>0.0197</td>\n",
       "      <td>0.0618</td>\n",
       "      <td>0.0432</td>\n",
       "      <td>0.0951</td>\n",
       "      <td>0.0836</td>\n",
       "      <td>0.1180</td>\n",
       "      <td>...</td>\n",
       "      <td>0.0048</td>\n",
       "      <td>0.0023</td>\n",
       "      <td>0.0020</td>\n",
       "      <td>0.0040</td>\n",
       "      <td>0.0019</td>\n",
       "      <td>0.0034</td>\n",
       "      <td>0.0034</td>\n",
       "      <td>0.0051</td>\n",
       "      <td>0.0031</td>\n",
       "      <td>Rock</td>\n",
       "    </tr>\n",
       "    <tr>\n",
       "      <th>155</th>\n",
       "      <td>0.0211</td>\n",
       "      <td>0.0128</td>\n",
       "      <td>0.0015</td>\n",
       "      <td>0.0450</td>\n",
       "      <td>0.0711</td>\n",
       "      <td>0.1563</td>\n",
       "      <td>0.1518</td>\n",
       "      <td>0.1206</td>\n",
       "      <td>0.1666</td>\n",
       "      <td>0.1345</td>\n",
       "      <td>...</td>\n",
       "      <td>0.0117</td>\n",
       "      <td>0.0023</td>\n",
       "      <td>0.0047</td>\n",
       "      <td>0.0049</td>\n",
       "      <td>0.0031</td>\n",
       "      <td>0.0024</td>\n",
       "      <td>0.0039</td>\n",
       "      <td>0.0051</td>\n",
       "      <td>0.0015</td>\n",
       "      <td>Mine</td>\n",
       "    </tr>\n",
       "    <tr>\n",
       "      <th>196</th>\n",
       "      <td>0.0050</td>\n",
       "      <td>0.0017</td>\n",
       "      <td>0.0270</td>\n",
       "      <td>0.0450</td>\n",
       "      <td>0.0958</td>\n",
       "      <td>0.0830</td>\n",
       "      <td>0.0879</td>\n",
       "      <td>0.1220</td>\n",
       "      <td>0.1977</td>\n",
       "      <td>0.2282</td>\n",
       "      <td>...</td>\n",
       "      <td>0.0165</td>\n",
       "      <td>0.0056</td>\n",
       "      <td>0.0010</td>\n",
       "      <td>0.0027</td>\n",
       "      <td>0.0062</td>\n",
       "      <td>0.0024</td>\n",
       "      <td>0.0063</td>\n",
       "      <td>0.0017</td>\n",
       "      <td>0.0028</td>\n",
       "      <td>Mine</td>\n",
       "    </tr>\n",
       "  </tbody>\n",
       "</table>\n",
       "<p>5 rows × 61 columns</p>\n",
       "</div>"
      ],
      "text/plain": [
       "         0       1       2       3       4       5       6       7       8   \\\n",
       "129  0.1371  0.1226  0.1385  0.1484  0.1776  0.1428  0.1773  0.2161  0.1630   \n",
       "26   0.0151  0.0320  0.0599  0.1050  0.1163  0.1734  0.1679  0.1119  0.0889   \n",
       "63   0.0067  0.0096  0.0024  0.0058  0.0197  0.0618  0.0432  0.0951  0.0836   \n",
       "155  0.0211  0.0128  0.0015  0.0450  0.0711  0.1563  0.1518  0.1206  0.1666   \n",
       "196  0.0050  0.0017  0.0270  0.0450  0.0958  0.0830  0.0879  0.1220  0.1977   \n",
       "\n",
       "         9   ...      51      52      53      54      55      56      57  \\\n",
       "129  0.2067  ...  0.0118  0.0129  0.0344  0.0065  0.0067  0.0022  0.0079   \n",
       "26   0.1205  ...  0.0061  0.0015  0.0084  0.0128  0.0054  0.0011  0.0019   \n",
       "63   0.1180  ...  0.0048  0.0023  0.0020  0.0040  0.0019  0.0034  0.0034   \n",
       "155  0.1345  ...  0.0117  0.0023  0.0047  0.0049  0.0031  0.0024  0.0039   \n",
       "196  0.2282  ...  0.0165  0.0056  0.0010  0.0027  0.0062  0.0024  0.0063   \n",
       "\n",
       "         58      59    60  \n",
       "129  0.0146  0.0051  Mine  \n",
       "26   0.0023  0.0062  Rock  \n",
       "63   0.0051  0.0031  Rock  \n",
       "155  0.0051  0.0015  Mine  \n",
       "196  0.0017  0.0028  Mine  \n",
       "\n",
       "[5 rows x 61 columns]"
      ]
     },
     "execution_count": 2,
     "metadata": {},
     "output_type": "execute_result"
    }
   ],
   "source": [
    "df = pd.read_csv('sonar.csv' , header = None , skiprows = 1)\n",
    "df.sample(5)"
   ]
  },
  {
   "cell_type": "code",
   "execution_count": 3,
   "metadata": {},
   "outputs": [
    {
     "data": {
      "text/plain": [
       "0    Rock\n",
       "1    Rock\n",
       "2    Rock\n",
       "3    Rock\n",
       "4    Rock\n",
       "Name: 60, dtype: object"
      ]
     },
     "execution_count": 3,
     "metadata": {},
     "output_type": "execute_result"
    }
   ],
   "source": [
    "x = df.drop(60 , axis =1 )\n",
    "y = df[60]\n",
    "y.head()"
   ]
  },
  {
   "cell_type": "code",
   "execution_count": 4,
   "metadata": {},
   "outputs": [
    {
     "data": {
      "text/plain": [
       "array([1, 1, 1, 1, 1, 1, 1, 1, 1, 1, 1, 1, 1, 1, 1, 1, 1, 1, 1, 1, 1, 1,\n",
       "       1, 1, 1, 1, 1, 1, 1, 1, 1, 1, 1, 1, 1, 1, 1, 1, 1, 1, 1, 1, 1, 1,\n",
       "       1, 1, 1, 1, 1, 1, 1, 1, 1, 1, 1, 1, 1, 1, 1, 1, 1, 1, 1, 1, 1, 1,\n",
       "       1, 1, 1, 1, 1, 1, 1, 1, 1, 1, 1, 1, 1, 1, 1, 1, 1, 1, 1, 1, 1, 1,\n",
       "       1, 1, 1, 1, 1, 1, 1, 1, 1, 0, 0, 0, 0, 0, 0, 0, 0, 0, 0, 0, 0, 0,\n",
       "       0, 0, 0, 0, 0, 0, 0, 0, 0, 0, 0, 0, 0, 0, 0, 0, 0, 0, 0, 0, 0, 0,\n",
       "       0, 0, 0, 0, 0, 0, 0, 0, 0, 0, 0, 0, 0, 0, 0, 0, 0, 0, 0, 0, 0, 0,\n",
       "       0, 0, 0, 0, 0, 0, 0, 0, 0, 0, 0, 0, 0, 0, 0, 0, 0, 0, 0, 0, 0, 0,\n",
       "       0, 0, 0, 0, 0, 0, 0, 0, 0, 0, 0, 0, 0, 0, 0, 0, 0, 0, 0, 0, 0, 0,\n",
       "       0, 0, 0, 0, 0, 0, 0, 0, 0, 0])"
      ]
     },
     "execution_count": 4,
     "metadata": {},
     "output_type": "execute_result"
    }
   ],
   "source": [
    "from sklearn.preprocessing import LabelEncoder\n",
    "encoder = LabelEncoder()\n",
    "y = encoder.fit_transform(y)\n",
    "y"
   ]
  },
  {
   "cell_type": "code",
   "execution_count": 5,
   "metadata": {},
   "outputs": [],
   "source": [
    "from sklearn.model_selection import train_test_split\n",
    "\n",
    "x_train , x_test , y_train , y_test = train_test_split(x , y , test_size = 0.25 , random_state = 1)"
   ]
  },
  {
   "cell_type": "markdown",
   "metadata": {},
   "source": [
    "# Using Deep Learning Model"
   ]
  },
  {
   "cell_type": "markdown",
   "metadata": {},
   "source": [
    "## Building Our NN Model "
   ]
  },
  {
   "cell_type": "code",
   "execution_count": 6,
   "metadata": {},
   "outputs": [],
   "source": [
    "import tensorflow as tf"
   ]
  },
  {
   "cell_type": "code",
   "execution_count": 7,
   "metadata": {},
   "outputs": [],
   "source": [
    "from tensorflow import keras"
   ]
  },
  {
   "cell_type": "code",
   "execution_count": 8,
   "metadata": {},
   "outputs": [
    {
     "name": "stdout",
     "output_type": "stream",
     "text": [
      "Epoch 1/100\n",
      "14/14 [==============================] - 2s 33ms/step - loss: 0.6935 - accuracy: 0.5321 - val_loss: 0.6761 - val_accuracy: 0.5957\n",
      "Epoch 2/100\n",
      "14/14 [==============================] - 0s 7ms/step - loss: 0.6761 - accuracy: 0.5596 - val_loss: 0.6692 - val_accuracy: 0.5319\n",
      "Epoch 3/100\n",
      "14/14 [==============================] - 0s 6ms/step - loss: 0.6651 - accuracy: 0.5688 - val_loss: 0.6571 - val_accuracy: 0.5957\n",
      "Epoch 4/100\n",
      "14/14 [==============================] - 0s 7ms/step - loss: 0.6519 - accuracy: 0.6881 - val_loss: 0.6439 - val_accuracy: 0.5957\n",
      "Epoch 5/100\n",
      "14/14 [==============================] - 0s 7ms/step - loss: 0.6426 - accuracy: 0.6422 - val_loss: 0.6278 - val_accuracy: 0.7234\n",
      "Epoch 6/100\n",
      "14/14 [==============================] - 0s 6ms/step - loss: 0.6229 - accuracy: 0.7064 - val_loss: 0.6084 - val_accuracy: 0.7660\n",
      "Epoch 7/100\n",
      "14/14 [==============================] - 0s 7ms/step - loss: 0.6048 - accuracy: 0.7615 - val_loss: 0.5896 - val_accuracy: 0.7660\n",
      "Epoch 8/100\n",
      "14/14 [==============================] - 0s 7ms/step - loss: 0.5822 - accuracy: 0.7064 - val_loss: 0.5666 - val_accuracy: 0.7447\n",
      "Epoch 9/100\n",
      "14/14 [==============================] - 0s 9ms/step - loss: 0.5508 - accuracy: 0.7248 - val_loss: 0.5257 - val_accuracy: 0.8511\n",
      "Epoch 10/100\n",
      "14/14 [==============================] - 0s 12ms/step - loss: 0.5252 - accuracy: 0.8257 - val_loss: 0.5045 - val_accuracy: 0.8298\n",
      "Epoch 11/100\n",
      "14/14 [==============================] - 0s 11ms/step - loss: 0.4950 - accuracy: 0.7982 - val_loss: 0.4791 - val_accuracy: 0.8298\n",
      "Epoch 12/100\n",
      "14/14 [==============================] - 0s 8ms/step - loss: 0.4719 - accuracy: 0.7982 - val_loss: 0.4643 - val_accuracy: 0.8298\n",
      "Epoch 13/100\n",
      "14/14 [==============================] - 0s 10ms/step - loss: 0.4305 - accuracy: 0.8532 - val_loss: 0.4814 - val_accuracy: 0.8085\n",
      "Epoch 14/100\n",
      "14/14 [==============================] - 0s 10ms/step - loss: 0.4250 - accuracy: 0.7706 - val_loss: 0.4429 - val_accuracy: 0.8298\n",
      "Epoch 15/100\n",
      "14/14 [==============================] - 0s 8ms/step - loss: 0.3928 - accuracy: 0.8716 - val_loss: 0.4472 - val_accuracy: 0.8298\n",
      "Epoch 16/100\n",
      "14/14 [==============================] - 0s 8ms/step - loss: 0.3701 - accuracy: 0.8991 - val_loss: 0.5757 - val_accuracy: 0.7660\n",
      "Epoch 17/100\n",
      "14/14 [==============================] - 0s 9ms/step - loss: 0.3704 - accuracy: 0.8349 - val_loss: 0.4420 - val_accuracy: 0.8298\n",
      "Epoch 18/100\n",
      "14/14 [==============================] - 0s 7ms/step - loss: 0.3460 - accuracy: 0.8624 - val_loss: 0.4795 - val_accuracy: 0.8298\n",
      "Epoch 19/100\n",
      "14/14 [==============================] - 0s 7ms/step - loss: 0.3471 - accuracy: 0.8165 - val_loss: 0.5824 - val_accuracy: 0.7660\n",
      "Epoch 20/100\n",
      "14/14 [==============================] - 0s 7ms/step - loss: 0.3644 - accuracy: 0.7706 - val_loss: 0.4556 - val_accuracy: 0.8298\n",
      "Epoch 21/100\n",
      "14/14 [==============================] - 0s 7ms/step - loss: 0.3217 - accuracy: 0.8807 - val_loss: 0.4548 - val_accuracy: 0.8298\n",
      "Epoch 22/100\n",
      "14/14 [==============================] - 0s 6ms/step - loss: 0.2975 - accuracy: 0.8899 - val_loss: 0.5048 - val_accuracy: 0.8085\n",
      "Epoch 23/100\n",
      "14/14 [==============================] - 0s 6ms/step - loss: 0.2933 - accuracy: 0.9083 - val_loss: 0.5194 - val_accuracy: 0.8085\n",
      "Epoch 24/100\n",
      "14/14 [==============================] - 0s 6ms/step - loss: 0.2868 - accuracy: 0.8624 - val_loss: 0.4681 - val_accuracy: 0.8298\n",
      "Epoch 25/100\n",
      "14/14 [==============================] - 0s 9ms/step - loss: 0.2567 - accuracy: 0.9358 - val_loss: 0.5030 - val_accuracy: 0.8085\n",
      "Epoch 26/100\n",
      "14/14 [==============================] - 0s 6ms/step - loss: 0.2555 - accuracy: 0.9358 - val_loss: 0.4896 - val_accuracy: 0.8298\n",
      "Epoch 27/100\n",
      "14/14 [==============================] - 0s 7ms/step - loss: 0.2400 - accuracy: 0.9358 - val_loss: 0.4942 - val_accuracy: 0.8511\n",
      "Epoch 28/100\n",
      "14/14 [==============================] - 0s 7ms/step - loss: 0.2335 - accuracy: 0.9266 - val_loss: 0.5373 - val_accuracy: 0.8085\n",
      "Epoch 29/100\n",
      "14/14 [==============================] - 0s 6ms/step - loss: 0.2270 - accuracy: 0.9358 - val_loss: 0.5586 - val_accuracy: 0.8085\n",
      "Epoch 30/100\n",
      "14/14 [==============================] - 0s 7ms/step - loss: 0.2094 - accuracy: 0.9633 - val_loss: 0.5719 - val_accuracy: 0.8085\n",
      "Epoch 31/100\n",
      "14/14 [==============================] - 0s 8ms/step - loss: 0.1968 - accuracy: 0.9358 - val_loss: 0.5203 - val_accuracy: 0.8511\n",
      "Epoch 32/100\n",
      "14/14 [==============================] - 0s 6ms/step - loss: 0.2167 - accuracy: 0.9358 - val_loss: 0.5442 - val_accuracy: 0.8511\n",
      "Epoch 33/100\n",
      "14/14 [==============================] - 0s 6ms/step - loss: 0.1841 - accuracy: 0.9817 - val_loss: 0.5582 - val_accuracy: 0.8298\n",
      "Epoch 34/100\n",
      "14/14 [==============================] - 0s 7ms/step - loss: 0.1691 - accuracy: 0.9725 - val_loss: 0.5652 - val_accuracy: 0.8298\n",
      "Epoch 35/100\n",
      "14/14 [==============================] - 0s 6ms/step - loss: 0.1706 - accuracy: 0.9633 - val_loss: 0.6095 - val_accuracy: 0.8298\n",
      "Epoch 36/100\n",
      "14/14 [==============================] - 0s 6ms/step - loss: 0.1566 - accuracy: 0.9633 - val_loss: 0.5993 - val_accuracy: 0.8298\n",
      "Epoch 37/100\n",
      "14/14 [==============================] - 0s 5ms/step - loss: 0.1438 - accuracy: 0.9725 - val_loss: 0.5812 - val_accuracy: 0.8511\n",
      "Epoch 38/100\n",
      "14/14 [==============================] - 0s 6ms/step - loss: 0.1467 - accuracy: 0.9725 - val_loss: 0.5827 - val_accuracy: 0.8511\n",
      "Epoch 39/100\n",
      "14/14 [==============================] - 0s 10ms/step - loss: 0.1306 - accuracy: 0.9633 - val_loss: 0.6013 - val_accuracy: 0.8298\n",
      "Epoch 40/100\n",
      "14/14 [==============================] - 0s 7ms/step - loss: 0.1231 - accuracy: 0.9817 - val_loss: 0.6322 - val_accuracy: 0.8298\n",
      "Epoch 41/100\n",
      "14/14 [==============================] - 0s 7ms/step - loss: 0.1137 - accuracy: 0.9817 - val_loss: 0.6551 - val_accuracy: 0.8298\n",
      "Epoch 42/100\n",
      "14/14 [==============================] - 0s 6ms/step - loss: 0.1109 - accuracy: 0.9817 - val_loss: 0.6885 - val_accuracy: 0.8298\n",
      "Epoch 43/100\n",
      "14/14 [==============================] - 0s 9ms/step - loss: 0.1411 - accuracy: 0.9358 - val_loss: 0.7235 - val_accuracy: 0.8298\n",
      "Epoch 44/100\n",
      "14/14 [==============================] - 0s 6ms/step - loss: 0.1453 - accuracy: 0.9633 - val_loss: 0.7095 - val_accuracy: 0.8298\n",
      "Epoch 45/100\n",
      "14/14 [==============================] - 0s 7ms/step - loss: 0.1328 - accuracy: 0.9541 - val_loss: 0.6466 - val_accuracy: 0.8298\n",
      "Epoch 46/100\n",
      "14/14 [==============================] - 0s 7ms/step - loss: 0.1236 - accuracy: 0.9633 - val_loss: 0.6630 - val_accuracy: 0.8085\n",
      "Epoch 47/100\n",
      "14/14 [==============================] - 0s 7ms/step - loss: 0.0853 - accuracy: 0.9908 - val_loss: 0.6924 - val_accuracy: 0.8298\n",
      "Epoch 48/100\n",
      "14/14 [==============================] - 0s 9ms/step - loss: 0.0833 - accuracy: 0.9908 - val_loss: 0.6910 - val_accuracy: 0.8511\n",
      "Epoch 49/100\n",
      "14/14 [==============================] - 0s 8ms/step - loss: 0.0764 - accuracy: 0.9908 - val_loss: 0.7063 - val_accuracy: 0.8298\n",
      "Epoch 50/100\n",
      "14/14 [==============================] - 0s 6ms/step - loss: 0.0625 - accuracy: 0.9908 - val_loss: 0.7699 - val_accuracy: 0.8085\n",
      "Epoch 51/100\n",
      "14/14 [==============================] - 0s 5ms/step - loss: 0.0591 - accuracy: 0.9817 - val_loss: 0.7272 - val_accuracy: 0.8298\n",
      "Epoch 52/100\n",
      "14/14 [==============================] - 0s 6ms/step - loss: 0.0648 - accuracy: 0.9908 - val_loss: 0.7753 - val_accuracy: 0.8085\n",
      "Epoch 53/100\n",
      "14/14 [==============================] - 0s 5ms/step - loss: 0.0534 - accuracy: 1.0000 - val_loss: 0.7786 - val_accuracy: 0.8085\n",
      "Epoch 54/100\n",
      "14/14 [==============================] - 0s 6ms/step - loss: 0.0471 - accuracy: 1.0000 - val_loss: 0.8240 - val_accuracy: 0.8085\n",
      "Epoch 55/100\n",
      "14/14 [==============================] - 0s 5ms/step - loss: 0.0412 - accuracy: 0.9908 - val_loss: 0.7891 - val_accuracy: 0.8298\n",
      "Epoch 56/100\n",
      "14/14 [==============================] - 0s 6ms/step - loss: 0.0559 - accuracy: 0.9908 - val_loss: 0.8335 - val_accuracy: 0.8085\n",
      "Epoch 57/100\n",
      "14/14 [==============================] - 0s 6ms/step - loss: 0.0422 - accuracy: 1.0000 - val_loss: 0.8303 - val_accuracy: 0.8085\n",
      "Epoch 58/100\n",
      "14/14 [==============================] - 0s 6ms/step - loss: 0.0366 - accuracy: 1.0000 - val_loss: 0.8443 - val_accuracy: 0.8298\n"
     ]
    },
    {
     "name": "stdout",
     "output_type": "stream",
     "text": [
      "Epoch 59/100\n",
      "14/14 [==============================] - 0s 8ms/step - loss: 0.0318 - accuracy: 1.0000 - val_loss: 0.8651 - val_accuracy: 0.8298\n",
      "Epoch 60/100\n",
      "14/14 [==============================] - 0s 6ms/step - loss: 0.0296 - accuracy: 1.0000 - val_loss: 0.8561 - val_accuracy: 0.8298\n",
      "Epoch 61/100\n",
      "14/14 [==============================] - 0s 5ms/step - loss: 0.0301 - accuracy: 1.0000 - val_loss: 0.9226 - val_accuracy: 0.8085\n",
      "Epoch 62/100\n",
      "14/14 [==============================] - 0s 5ms/step - loss: 0.0335 - accuracy: 1.0000 - val_loss: 0.9060 - val_accuracy: 0.8298\n",
      "Epoch 63/100\n",
      "14/14 [==============================] - 0s 6ms/step - loss: 0.0225 - accuracy: 1.0000 - val_loss: 0.8987 - val_accuracy: 0.8511\n",
      "Epoch 64/100\n",
      "14/14 [==============================] - 0s 6ms/step - loss: 0.0248 - accuracy: 1.0000 - val_loss: 0.9426 - val_accuracy: 0.8085\n",
      "Epoch 65/100\n",
      "14/14 [==============================] - 0s 5ms/step - loss: 0.0218 - accuracy: 1.0000 - val_loss: 0.9239 - val_accuracy: 0.8298\n",
      "Epoch 66/100\n",
      "14/14 [==============================] - 0s 6ms/step - loss: 0.0199 - accuracy: 1.0000 - val_loss: 0.9637 - val_accuracy: 0.8298\n",
      "Epoch 67/100\n",
      "14/14 [==============================] - 0s 5ms/step - loss: 0.0180 - accuracy: 1.0000 - val_loss: 0.9631 - val_accuracy: 0.8298\n",
      "Epoch 68/100\n",
      "14/14 [==============================] - 0s 5ms/step - loss: 0.0172 - accuracy: 1.0000 - val_loss: 0.9684 - val_accuracy: 0.8298\n",
      "Epoch 69/100\n",
      "14/14 [==============================] - 0s 6ms/step - loss: 0.0153 - accuracy: 1.0000 - val_loss: 0.9851 - val_accuracy: 0.8298\n",
      "Epoch 70/100\n",
      "14/14 [==============================] - 0s 5ms/step - loss: 0.0152 - accuracy: 1.0000 - val_loss: 0.9989 - val_accuracy: 0.8298\n",
      "Epoch 71/100\n",
      "14/14 [==============================] - 0s 5ms/step - loss: 0.0150 - accuracy: 1.0000 - val_loss: 1.0064 - val_accuracy: 0.8298\n",
      "Epoch 72/100\n",
      "14/14 [==============================] - 0s 5ms/step - loss: 0.0150 - accuracy: 1.0000 - val_loss: 0.9886 - val_accuracy: 0.8511\n",
      "Epoch 73/100\n",
      "14/14 [==============================] - 0s 5ms/step - loss: 0.0143 - accuracy: 1.0000 - val_loss: 1.0233 - val_accuracy: 0.8298\n",
      "Epoch 74/100\n",
      "14/14 [==============================] - 0s 5ms/step - loss: 0.0117 - accuracy: 1.0000 - val_loss: 1.0167 - val_accuracy: 0.8511\n",
      "Epoch 75/100\n",
      "14/14 [==============================] - 0s 6ms/step - loss: 0.0119 - accuracy: 1.0000 - val_loss: 1.0446 - val_accuracy: 0.8298\n",
      "Epoch 76/100\n",
      "14/14 [==============================] - 0s 6ms/step - loss: 0.0106 - accuracy: 1.0000 - val_loss: 1.0519 - val_accuracy: 0.8298\n",
      "Epoch 77/100\n",
      "14/14 [==============================] - 0s 6ms/step - loss: 0.0105 - accuracy: 1.0000 - val_loss: 1.0518 - val_accuracy: 0.8298\n",
      "Epoch 78/100\n",
      "14/14 [==============================] - 0s 8ms/step - loss: 0.0098 - accuracy: 1.0000 - val_loss: 1.0769 - val_accuracy: 0.8298\n",
      "Epoch 79/100\n",
      "14/14 [==============================] - 0s 9ms/step - loss: 0.0091 - accuracy: 1.0000 - val_loss: 1.0704 - val_accuracy: 0.8298\n",
      "Epoch 80/100\n",
      "14/14 [==============================] - 0s 7ms/step - loss: 0.0087 - accuracy: 1.0000 - val_loss: 1.0900 - val_accuracy: 0.8298\n",
      "Epoch 81/100\n",
      "14/14 [==============================] - 0s 7ms/step - loss: 0.0087 - accuracy: 1.0000 - val_loss: 1.0893 - val_accuracy: 0.8298\n",
      "Epoch 82/100\n",
      "14/14 [==============================] - 0s 7ms/step - loss: 0.0080 - accuracy: 1.0000 - val_loss: 1.1010 - val_accuracy: 0.8298\n",
      "Epoch 83/100\n",
      "14/14 [==============================] - 0s 6ms/step - loss: 0.0077 - accuracy: 1.0000 - val_loss: 1.1081 - val_accuracy: 0.8298\n",
      "Epoch 84/100\n",
      "14/14 [==============================] - 0s 6ms/step - loss: 0.0075 - accuracy: 1.0000 - val_loss: 1.1241 - val_accuracy: 0.8298\n",
      "Epoch 85/100\n",
      "14/14 [==============================] - 0s 6ms/step - loss: 0.0075 - accuracy: 1.0000 - val_loss: 1.1190 - val_accuracy: 0.8298\n",
      "Epoch 86/100\n",
      "14/14 [==============================] - 0s 7ms/step - loss: 0.0068 - accuracy: 1.0000 - val_loss: 1.1358 - val_accuracy: 0.8298\n",
      "Epoch 87/100\n",
      "14/14 [==============================] - 0s 6ms/step - loss: 0.0067 - accuracy: 1.0000 - val_loss: 1.1354 - val_accuracy: 0.8298\n",
      "Epoch 88/100\n",
      "14/14 [==============================] - 0s 7ms/step - loss: 0.0069 - accuracy: 1.0000 - val_loss: 1.1520 - val_accuracy: 0.8298\n",
      "Epoch 89/100\n",
      "14/14 [==============================] - 0s 6ms/step - loss: 0.0068 - accuracy: 1.0000 - val_loss: 1.1430 - val_accuracy: 0.8511\n",
      "Epoch 90/100\n",
      "14/14 [==============================] - 0s 6ms/step - loss: 0.0060 - accuracy: 1.0000 - val_loss: 1.1569 - val_accuracy: 0.8298\n",
      "Epoch 91/100\n",
      "14/14 [==============================] - 0s 6ms/step - loss: 0.0057 - accuracy: 1.0000 - val_loss: 1.1667 - val_accuracy: 0.8298\n",
      "Epoch 92/100\n",
      "14/14 [==============================] - 0s 6ms/step - loss: 0.0054 - accuracy: 1.0000 - val_loss: 1.1759 - val_accuracy: 0.8298\n",
      "Epoch 93/100\n",
      "14/14 [==============================] - 0s 6ms/step - loss: 0.0051 - accuracy: 1.0000 - val_loss: 1.1824 - val_accuracy: 0.8298\n",
      "Epoch 94/100\n",
      "14/14 [==============================] - 0s 6ms/step - loss: 0.0052 - accuracy: 1.0000 - val_loss: 1.1869 - val_accuracy: 0.8298\n",
      "Epoch 95/100\n",
      "14/14 [==============================] - 0s 6ms/step - loss: 0.0049 - accuracy: 1.0000 - val_loss: 1.1942 - val_accuracy: 0.8298\n",
      "Epoch 96/100\n",
      "14/14 [==============================] - 0s 6ms/step - loss: 0.0045 - accuracy: 1.0000 - val_loss: 1.2036 - val_accuracy: 0.8298\n",
      "Epoch 97/100\n",
      "14/14 [==============================] - 0s 6ms/step - loss: 0.0043 - accuracy: 1.0000 - val_loss: 1.2104 - val_accuracy: 0.8298\n",
      "Epoch 98/100\n",
      "14/14 [==============================] - 0s 6ms/step - loss: 0.0042 - accuracy: 1.0000 - val_loss: 1.2156 - val_accuracy: 0.8298\n",
      "Epoch 99/100\n",
      "14/14 [==============================] - 0s 7ms/step - loss: 0.0041 - accuracy: 1.0000 - val_loss: 1.2179 - val_accuracy: 0.8298\n",
      "Epoch 100/100\n",
      "14/14 [==============================] - 0s 6ms/step - loss: 0.0040 - accuracy: 1.0000 - val_loss: 1.2259 - val_accuracy: 0.8298\n"
     ]
    }
   ],
   "source": [
    "model = keras.Sequential([\n",
    "    keras.layers.Dense(80 , input_dim = 60 ,  activation = 'relu'),\n",
    "    keras.layers.Dense(30 , activation = 'relu'),\n",
    "    keras.layers.Dense(15 , activation = 'relu'),\n",
    "    keras.layers.Dense(1 ,  activation = 'sigmoid')\n",
    "])\n",
    "model.compile(loss = 'binary_crossentropy' , optimizer = 'adam' , metrics = ['accuracy'])\n",
    "\n",
    "h = model.fit(x_train , y_train ,epochs = 100 , batch_size = 8 , validation_split = 0.3)"
   ]
  },
  {
   "cell_type": "code",
   "execution_count": 9,
   "metadata": {},
   "outputs": [
    {
     "name": "stdout",
     "output_type": "stream",
     "text": [
      "5/5 [==============================] - 0s 3ms/step - loss: 0.3720 - accuracy: 0.9487\n",
      "Training Accuracy :  94.87179517745972\n"
     ]
    }
   ],
   "source": [
    "loss , acc = model.evaluate(x_train , y_train)\n",
    "print('Training Accuracy : ',acc*100)"
   ]
  },
  {
   "cell_type": "code",
   "execution_count": 10,
   "metadata": {},
   "outputs": [
    {
     "name": "stdout",
     "output_type": "stream",
     "text": [
      "2/2 [==============================] - 0s 4ms/step - loss: 1.2746 - accuracy: 0.7692\n",
      "Test Accuracy:  76.92307829856873\n"
     ]
    }
   ],
   "source": [
    "loss, acc = model.evaluate(x_test, y_test)\n",
    "print('Test Accuracy: ', acc*100)"
   ]
  },
  {
   "cell_type": "markdown",
   "metadata": {},
   "source": [
    "Our model is overfitting"
   ]
  },
  {
   "cell_type": "code",
   "execution_count": 11,
   "metadata": {},
   "outputs": [
    {
     "data": {
      "text/plain": [
       "<matplotlib.legend.Legend at 0x21fde65bcd0>"
      ]
     },
     "execution_count": 11,
     "metadata": {},
     "output_type": "execute_result"
    },
    {
     "data": {
      "image/png": "[encoded data removed]",
      "text/plain": [
       "<Figure size 720x576 with 1 Axes>"
      ]
     },
     "metadata": {
      "needs_background": "light"
     },
     "output_type": "display_data"
    }
   ],
   "source": [
    "import matplotlib.pyplot as plt\n",
    "\n",
    "epochs = np.arange(0, len(h.history['loss']))\n",
    "plt.figure(figsize = (10,8))\n",
    "plt.style.use('ggplot')\n",
    "\n",
    "plt.style.use('ggplot')\n",
    "plt.plot(epochs , h.history['loss'] , label = 'train_loss')\n",
    "plt.plot(epochs, h.history[\"val_loss\"], label=\"val_loss\")\n",
    "plt.title(\"Training Vs Validation Loss\")\n",
    "plt.xlabel(\"Epoch #\")\n",
    "plt.ylabel(\"Loss\")\n",
    "plt.legend()"
   ]
  },
  {
   "cell_type": "markdown",
   "metadata": {},
   "source": [
    "# Fixing Overfitting"
   ]
  },
  {
   "cell_type": "markdown",
   "metadata": {},
   "source": [
    "There are many techniques that we can employ to fix the problem of verfitting. Below are the most common and recommended ones:\n",
    "\n",
    "Simplify the complexity of the model\n",
    "\n",
    "L2 Regularization\n",
    "\n",
    "Drop Out\n",
    "\n",
    "Early Stopping\n",
    "\n",
    "Data Augmentation"
   ]
  },
  {
   "cell_type": "markdown",
   "metadata": {},
   "source": [
    "## Adding  L2 Regularization from Keras"
   ]
  },
  {
   "cell_type": "code",
   "execution_count": 12,
   "metadata": {},
   "outputs": [
    {
     "name": "stdout",
     "output_type": "stream",
     "text": [
      "Epoch 1/100\n",
      "14/14 [==============================] - 2s 23ms/step - loss: 6.9998 - accuracy: 0.5413 - val_loss: 6.3040 - val_accuracy: 0.5319\n",
      "Epoch 2/100\n",
      "14/14 [==============================] - 0s 6ms/step - loss: 5.7963 - accuracy: 0.5413 - val_loss: 5.2146 - val_accuracy: 0.5319\n",
      "Epoch 3/100\n",
      "14/14 [==============================] - 0s 6ms/step - loss: 4.7919 - accuracy: 0.5413 - val_loss: 4.3110 - val_accuracy: 0.5319\n",
      "Epoch 4/100\n",
      "14/14 [==============================] - 0s 6ms/step - loss: 3.9659 - accuracy: 0.5505 - val_loss: 3.5719 - val_accuracy: 0.5532\n",
      "Epoch 5/100\n",
      "14/14 [==============================] - 0s 6ms/step - loss: 3.2914 - accuracy: 0.5413 - val_loss: 2.9676 - val_accuracy: 0.5319\n",
      "Epoch 6/100\n",
      "14/14 [==============================] - 0s 7ms/step - loss: 2.7423 - accuracy: 0.5688 - val_loss: 2.4837 - val_accuracy: 0.5745\n",
      "Epoch 7/100\n",
      "14/14 [==============================] - 0s 7ms/step - loss: 2.3014 - accuracy: 0.5963 - val_loss: 2.0927 - val_accuracy: 0.6809\n",
      "Epoch 8/100\n",
      "14/14 [==============================] - 0s 6ms/step - loss: 1.9478 - accuracy: 0.6330 - val_loss: 1.7770 - val_accuracy: 0.6170\n",
      "Epoch 9/100\n",
      "14/14 [==============================] - 0s 6ms/step - loss: 1.6626 - accuracy: 0.6330 - val_loss: 1.5285 - val_accuracy: 0.6170\n",
      "Epoch 10/100\n",
      "14/14 [==============================] - 0s 7ms/step - loss: 1.4357 - accuracy: 0.6422 - val_loss: 1.3275 - val_accuracy: 0.5957\n",
      "Epoch 11/100\n",
      "14/14 [==============================] - 0s 6ms/step - loss: 1.2557 - accuracy: 0.6514 - val_loss: 1.1665 - val_accuracy: 0.6596\n",
      "Epoch 12/100\n",
      "14/14 [==============================] - 0s 6ms/step - loss: 1.1108 - accuracy: 0.6606 - val_loss: 1.0339 - val_accuracy: 0.7660\n",
      "Epoch 13/100\n",
      "14/14 [==============================] - 0s 6ms/step - loss: 0.9940 - accuracy: 0.7431 - val_loss: 0.9372 - val_accuracy: 0.5957\n",
      "Epoch 14/100\n",
      "14/14 [==============================] - 0s 6ms/step - loss: 0.9058 - accuracy: 0.6789 - val_loss: 0.8538 - val_accuracy: 0.7872\n",
      "Epoch 15/100\n",
      "14/14 [==============================] - 0s 6ms/step - loss: 0.8253 - accuracy: 0.7523 - val_loss: 0.8174 - val_accuracy: 0.5745\n",
      "Epoch 16/100\n",
      "14/14 [==============================] - 0s 6ms/step - loss: 0.7538 - accuracy: 0.7798 - val_loss: 0.7224 - val_accuracy: 0.8298\n",
      "Epoch 17/100\n",
      "14/14 [==============================] - 0s 6ms/step - loss: 0.7103 - accuracy: 0.7523 - val_loss: 0.6750 - val_accuracy: 0.8298\n",
      "Epoch 18/100\n",
      "14/14 [==============================] - 0s 9ms/step - loss: 0.6541 - accuracy: 0.8073 - val_loss: 0.6269 - val_accuracy: 0.8298\n",
      "Epoch 19/100\n",
      "14/14 [==============================] - 0s 7ms/step - loss: 0.7202 - accuracy: 0.6697 - val_loss: 0.6312 - val_accuracy: 0.7021\n",
      "Epoch 20/100\n",
      "14/14 [==============================] - 0s 6ms/step - loss: 0.6373 - accuracy: 0.7431 - val_loss: 0.6194 - val_accuracy: 0.6809\n",
      "Epoch 21/100\n",
      "14/14 [==============================] - 0s 6ms/step - loss: 0.6392 - accuracy: 0.7248 - val_loss: 0.6167 - val_accuracy: 0.8085\n",
      "Epoch 22/100\n",
      "14/14 [==============================] - 0s 6ms/step - loss: 0.5790 - accuracy: 0.8349 - val_loss: 0.5699 - val_accuracy: 0.8298\n",
      "Epoch 23/100\n",
      "14/14 [==============================] - 0s 6ms/step - loss: 0.5544 - accuracy: 0.8165 - val_loss: 0.5577 - val_accuracy: 0.8298\n",
      "Epoch 24/100\n",
      "14/14 [==============================] - 0s 6ms/step - loss: 0.5188 - accuracy: 0.8532 - val_loss: 0.5449 - val_accuracy: 0.8298\n",
      "Epoch 25/100\n",
      "14/14 [==============================] - 0s 6ms/step - loss: 0.5057 - accuracy: 0.8349 - val_loss: 0.6524 - val_accuracy: 0.7234\n",
      "Epoch 26/100\n",
      "14/14 [==============================] - 0s 6ms/step - loss: 0.5200 - accuracy: 0.8073 - val_loss: 0.5808 - val_accuracy: 0.8511\n",
      "Epoch 27/100\n",
      "14/14 [==============================] - 0s 6ms/step - loss: 0.5133 - accuracy: 0.7982 - val_loss: 0.6099 - val_accuracy: 0.7660\n",
      "Epoch 28/100\n",
      "14/14 [==============================] - 0s 6ms/step - loss: 0.5254 - accuracy: 0.8073 - val_loss: 0.5723 - val_accuracy: 0.8511\n",
      "Epoch 29/100\n",
      "14/14 [==============================] - 0s 6ms/step - loss: 0.4865 - accuracy: 0.8349 - val_loss: 0.5817 - val_accuracy: 0.8298\n",
      "Epoch 30/100\n",
      "14/14 [==============================] - 0s 6ms/step - loss: 0.4897 - accuracy: 0.8073 - val_loss: 0.5407 - val_accuracy: 0.8298\n",
      "Epoch 31/100\n",
      "14/14 [==============================] - 0s 6ms/step - loss: 0.4506 - accuracy: 0.8991 - val_loss: 0.5714 - val_accuracy: 0.8298\n",
      "Epoch 32/100\n",
      "14/14 [==============================] - 0s 6ms/step - loss: 0.4630 - accuracy: 0.8165 - val_loss: 0.6356 - val_accuracy: 0.8085\n",
      "Epoch 33/100\n",
      "14/14 [==============================] - 0s 6ms/step - loss: 0.4477 - accuracy: 0.8899 - val_loss: 0.5708 - val_accuracy: 0.8511\n",
      "Epoch 34/100\n",
      "14/14 [==============================] - 0s 6ms/step - loss: 0.4565 - accuracy: 0.8440 - val_loss: 0.6356 - val_accuracy: 0.8085\n",
      "Epoch 35/100\n",
      "14/14 [==============================] - 0s 7ms/step - loss: 0.4340 - accuracy: 0.8440 - val_loss: 0.6283 - val_accuracy: 0.8085\n",
      "Epoch 36/100\n",
      "14/14 [==============================] - 0s 7ms/step - loss: 0.5607 - accuracy: 0.7523 - val_loss: 0.7647 - val_accuracy: 0.7021\n",
      "Epoch 37/100\n",
      "14/14 [==============================] - 0s 7ms/step - loss: 0.6371 - accuracy: 0.6881 - val_loss: 0.7067 - val_accuracy: 0.7021\n",
      "Epoch 38/100\n",
      "14/14 [==============================] - 0s 5ms/step - loss: 0.5211 - accuracy: 0.7982 - val_loss: 0.5398 - val_accuracy: 0.8298\n",
      "Epoch 39/100\n",
      "14/14 [==============================] - 0s 5ms/step - loss: 0.4151 - accuracy: 0.8991 - val_loss: 0.5433 - val_accuracy: 0.8298\n",
      "Epoch 40/100\n",
      "14/14 [==============================] - 0s 6ms/step - loss: 0.4085 - accuracy: 0.8807 - val_loss: 0.5275 - val_accuracy: 0.8298\n",
      "Epoch 41/100\n",
      "14/14 [==============================] - 0s 7ms/step - loss: 0.4053 - accuracy: 0.9083 - val_loss: 0.5346 - val_accuracy: 0.8511\n",
      "Epoch 42/100\n",
      "14/14 [==============================] - 0s 5ms/step - loss: 0.4076 - accuracy: 0.8991 - val_loss: 0.5273 - val_accuracy: 0.8298\n",
      "Epoch 43/100\n",
      "14/14 [==============================] - 0s 6ms/step - loss: 0.3905 - accuracy: 0.9083 - val_loss: 0.5569 - val_accuracy: 0.8298\n",
      "Epoch 44/100\n",
      "14/14 [==============================] - 0s 5ms/step - loss: 0.4154 - accuracy: 0.8349 - val_loss: 0.6243 - val_accuracy: 0.8298\n",
      "Epoch 45/100\n",
      "14/14 [==============================] - 0s 6ms/step - loss: 0.4570 - accuracy: 0.7890 - val_loss: 0.6506 - val_accuracy: 0.8085\n",
      "Epoch 46/100\n",
      "14/14 [==============================] - 0s 5ms/step - loss: 0.4509 - accuracy: 0.7890 - val_loss: 0.5732 - val_accuracy: 0.8511\n",
      "Epoch 47/100\n",
      "14/14 [==============================] - 0s 5ms/step - loss: 0.3929 - accuracy: 0.8991 - val_loss: 0.6048 - val_accuracy: 0.8298\n",
      "Epoch 48/100\n",
      "14/14 [==============================] - 0s 6ms/step - loss: 0.3849 - accuracy: 0.9083 - val_loss: 0.5617 - val_accuracy: 0.8298\n",
      "Epoch 49/100\n",
      "14/14 [==============================] - 0s 5ms/step - loss: 0.3548 - accuracy: 0.9358 - val_loss: 0.5422 - val_accuracy: 0.8298\n",
      "Epoch 50/100\n",
      "14/14 [==============================] - 0s 6ms/step - loss: 0.3560 - accuracy: 0.9174 - val_loss: 0.5990 - val_accuracy: 0.8085\n",
      "Epoch 51/100\n",
      "14/14 [==============================] - 0s 5ms/step - loss: 0.3581 - accuracy: 0.8991 - val_loss: 0.5269 - val_accuracy: 0.8298\n",
      "Epoch 52/100\n",
      "14/14 [==============================] - 0s 6ms/step - loss: 0.3355 - accuracy: 0.9358 - val_loss: 0.5446 - val_accuracy: 0.8511\n",
      "Epoch 53/100\n",
      "14/14 [==============================] - 0s 6ms/step - loss: 0.3438 - accuracy: 0.9266 - val_loss: 0.5648 - val_accuracy: 0.8298\n",
      "Epoch 54/100\n",
      "14/14 [==============================] - 0s 5ms/step - loss: 0.3656 - accuracy: 0.8807 - val_loss: 0.5447 - val_accuracy: 0.8298\n",
      "Epoch 55/100\n",
      "14/14 [==============================] - 0s 6ms/step - loss: 0.3780 - accuracy: 0.8440 - val_loss: 0.5752 - val_accuracy: 0.8085\n",
      "Epoch 56/100\n",
      "14/14 [==============================] - 0s 5ms/step - loss: 0.3579 - accuracy: 0.9083 - val_loss: 0.5731 - val_accuracy: 0.8298\n",
      "Epoch 57/100\n",
      "14/14 [==============================] - 0s 6ms/step - loss: 0.3534 - accuracy: 0.8899 - val_loss: 0.5235 - val_accuracy: 0.8511\n",
      "Epoch 58/100\n",
      "14/14 [==============================] - 0s 6ms/step - loss: 0.3343 - accuracy: 0.8991 - val_loss: 0.5342 - val_accuracy: 0.8511\n"
     ]
    },
    {
     "name": "stdout",
     "output_type": "stream",
     "text": [
      "Epoch 59/100\n",
      "14/14 [==============================] - 0s 5ms/step - loss: 0.3009 - accuracy: 0.9541 - val_loss: 0.5559 - val_accuracy: 0.8085\n",
      "Epoch 60/100\n",
      "14/14 [==============================] - 0s 5ms/step - loss: 0.2945 - accuracy: 0.9725 - val_loss: 0.5757 - val_accuracy: 0.8298\n",
      "Epoch 61/100\n",
      "14/14 [==============================] - 0s 5ms/step - loss: 0.2873 - accuracy: 0.9633 - val_loss: 0.5926 - val_accuracy: 0.8085\n",
      "Epoch 62/100\n",
      "14/14 [==============================] - 0s 5ms/step - loss: 0.3130 - accuracy: 0.9174 - val_loss: 0.6242 - val_accuracy: 0.8298\n",
      "Epoch 63/100\n",
      "14/14 [==============================] - 0s 5ms/step - loss: 0.4382 - accuracy: 0.7982 - val_loss: 0.5696 - val_accuracy: 0.8298\n",
      "Epoch 64/100\n",
      "14/14 [==============================] - 0s 5ms/step - loss: 0.3686 - accuracy: 0.8716 - val_loss: 0.5551 - val_accuracy: 0.8085\n",
      "Epoch 65/100\n",
      "14/14 [==============================] - 0s 6ms/step - loss: 0.4091 - accuracy: 0.8257 - val_loss: 0.5529 - val_accuracy: 0.8298\n",
      "Epoch 66/100\n",
      "14/14 [==============================] - 0s 5ms/step - loss: 0.2910 - accuracy: 0.9633 - val_loss: 0.5873 - val_accuracy: 0.8511\n",
      "Epoch 67/100\n",
      "14/14 [==============================] - 0s 5ms/step - loss: 0.3171 - accuracy: 0.8991 - val_loss: 0.7929 - val_accuracy: 0.7872\n",
      "Epoch 68/100\n",
      "14/14 [==============================] - 0s 5ms/step - loss: 0.4526 - accuracy: 0.8349 - val_loss: 0.7197 - val_accuracy: 0.7872\n",
      "Epoch 69/100\n",
      "14/14 [==============================] - 0s 5ms/step - loss: 0.4357 - accuracy: 0.7890 - val_loss: 0.6257 - val_accuracy: 0.8085\n",
      "Epoch 70/100\n",
      "14/14 [==============================] - 0s 6ms/step - loss: 0.3637 - accuracy: 0.8807 - val_loss: 0.6227 - val_accuracy: 0.8298\n",
      "Epoch 71/100\n",
      "14/14 [==============================] - 0s 5ms/step - loss: 0.3234 - accuracy: 0.8899 - val_loss: 0.5926 - val_accuracy: 0.8298\n",
      "Epoch 72/100\n",
      "14/14 [==============================] - 0s 5ms/step - loss: 0.2681 - accuracy: 0.9450 - val_loss: 0.6026 - val_accuracy: 0.8511\n",
      "Epoch 73/100\n",
      "14/14 [==============================] - 0s 5ms/step - loss: 0.2565 - accuracy: 0.9358 - val_loss: 0.6114 - val_accuracy: 0.8298\n",
      "Epoch 74/100\n",
      "14/14 [==============================] - 0s 6ms/step - loss: 0.2891 - accuracy: 0.9266 - val_loss: 0.5941 - val_accuracy: 0.8511\n",
      "Epoch 75/100\n",
      "14/14 [==============================] - 0s 6ms/step - loss: 0.2862 - accuracy: 0.9266 - val_loss: 0.6103 - val_accuracy: 0.8511\n",
      "Epoch 76/100\n",
      "14/14 [==============================] - 0s 6ms/step - loss: 0.2364 - accuracy: 0.9450 - val_loss: 0.6373 - val_accuracy: 0.8511\n",
      "Epoch 77/100\n",
      "14/14 [==============================] - 0s 7ms/step - loss: 0.2295 - accuracy: 0.9817 - val_loss: 0.6398 - val_accuracy: 0.8298\n",
      "Epoch 78/100\n",
      "14/14 [==============================] - 0s 5ms/step - loss: 0.2851 - accuracy: 0.8899 - val_loss: 0.6355 - val_accuracy: 0.8511\n",
      "Epoch 79/100\n",
      "14/14 [==============================] - 0s 6ms/step - loss: 0.2203 - accuracy: 0.9817 - val_loss: 0.6626 - val_accuracy: 0.8511\n",
      "Epoch 80/100\n",
      "14/14 [==============================] - 0s 5ms/step - loss: 0.2372 - accuracy: 0.9633 - val_loss: 0.6896 - val_accuracy: 0.8511\n",
      "Epoch 81/100\n",
      "14/14 [==============================] - 0s 6ms/step - loss: 0.2272 - accuracy: 0.9633 - val_loss: 0.6561 - val_accuracy: 0.8511\n",
      "Epoch 82/100\n",
      "14/14 [==============================] - 0s 5ms/step - loss: 0.2188 - accuracy: 0.9817 - val_loss: 0.6940 - val_accuracy: 0.8511\n",
      "Epoch 83/100\n",
      "14/14 [==============================] - 0s 5ms/step - loss: 0.2079 - accuracy: 0.9817 - val_loss: 0.7195 - val_accuracy: 0.8298\n",
      "Epoch 84/100\n",
      "14/14 [==============================] - 0s 6ms/step - loss: 0.2026 - accuracy: 0.9817 - val_loss: 0.7167 - val_accuracy: 0.8511\n",
      "Epoch 85/100\n",
      "14/14 [==============================] - 0s 5ms/step - loss: 0.2069 - accuracy: 0.9541 - val_loss: 0.7040 - val_accuracy: 0.8511\n",
      "Epoch 86/100\n",
      "14/14 [==============================] - 0s 6ms/step - loss: 0.3670 - accuracy: 0.8716 - val_loss: 0.8464 - val_accuracy: 0.7234\n",
      "Epoch 87/100\n",
      "14/14 [==============================] - 0s 6ms/step - loss: 0.4568 - accuracy: 0.8440 - val_loss: 0.6238 - val_accuracy: 0.8085\n",
      "Epoch 88/100\n",
      "14/14 [==============================] - 0s 5ms/step - loss: 0.3239 - accuracy: 0.9083 - val_loss: 0.6319 - val_accuracy: 0.8298\n",
      "Epoch 89/100\n",
      "14/14 [==============================] - 0s 7ms/step - loss: 0.2077 - accuracy: 0.9817 - val_loss: 0.6708 - val_accuracy: 0.8511\n",
      "Epoch 90/100\n",
      "14/14 [==============================] - 0s 6ms/step - loss: 0.1875 - accuracy: 0.9817 - val_loss: 0.7006 - val_accuracy: 0.8511\n",
      "Epoch 91/100\n",
      "14/14 [==============================] - 0s 6ms/step - loss: 0.2153 - accuracy: 0.9541 - val_loss: 0.7033 - val_accuracy: 0.8511\n",
      "Epoch 92/100\n",
      "14/14 [==============================] - 0s 7ms/step - loss: 0.1948 - accuracy: 0.9633 - val_loss: 0.7403 - val_accuracy: 0.8511\n",
      "Epoch 93/100\n",
      "14/14 [==============================] - 0s 10ms/step - loss: 0.1762 - accuracy: 0.9908 - val_loss: 0.7879 - val_accuracy: 0.8298\n",
      "Epoch 94/100\n",
      "14/14 [==============================] - 0s 7ms/step - loss: 0.1665 - accuracy: 0.9908 - val_loss: 0.7839 - val_accuracy: 0.8085\n",
      "Epoch 95/100\n",
      "14/14 [==============================] - 0s 7ms/step - loss: 0.1713 - accuracy: 1.0000 - val_loss: 0.7818 - val_accuracy: 0.8085\n",
      "Epoch 96/100\n",
      "14/14 [==============================] - 0s 7ms/step - loss: 0.1754 - accuracy: 0.9817 - val_loss: 0.7604 - val_accuracy: 0.8511\n",
      "Epoch 97/100\n",
      "14/14 [==============================] - 0s 7ms/step - loss: 0.1990 - accuracy: 0.9725 - val_loss: 0.7276 - val_accuracy: 0.8511\n",
      "Epoch 98/100\n",
      "14/14 [==============================] - 0s 7ms/step - loss: 0.1815 - accuracy: 0.9633 - val_loss: 0.8485 - val_accuracy: 0.7872\n",
      "Epoch 99/100\n",
      "14/14 [==============================] - 0s 7ms/step - loss: 0.3474 - accuracy: 0.9083 - val_loss: 0.7334 - val_accuracy: 0.8511\n",
      "Epoch 100/100\n",
      "14/14 [==============================] - 0s 7ms/step - loss: 0.3149 - accuracy: 0.8899 - val_loss: 0.7273 - val_accuracy: 0.8298\n"
     ]
    }
   ],
   "source": [
    "model = keras.Sequential([\n",
    "    keras.layers.Dense(80 , input_dim = 60 ,  activation = 'relu' , kernel_regularizer = tf.keras.regularizers.l2(0.1)),\n",
    "    keras.layers.Dense(30 , activation = 'relu'),\n",
    "    keras.layers.Dense(15 , activation = 'relu'),\n",
    "    keras.layers.Dense(1 ,  activation = 'sigmoid')\n",
    "])\n",
    "model.compile(loss = 'binary_crossentropy' , optimizer = 'adam' , metrics = ['accuracy'])\n",
    "\n",
    "h = model.fit(x_train , y_train ,epochs = 100 , batch_size = 8 , validation_split = 0.3)"
   ]
  },
  {
   "cell_type": "code",
   "execution_count": 13,
   "metadata": {},
   "outputs": [
    {
     "name": "stdout",
     "output_type": "stream",
     "text": [
      "2/2 [==============================] - 0s 8ms/step - loss: 0.8431 - accuracy: 0.7500\n",
      "Test Accuracy:  75.0\n"
     ]
    }
   ],
   "source": [
    "loss, acc = model.evaluate(x_test, y_test)\n",
    "print('Test Accuracy: ', acc*100)"
   ]
  },
  {
   "cell_type": "code",
   "execution_count": 14,
   "metadata": {},
   "outputs": [
    {
     "name": "stdout",
     "output_type": "stream",
     "text": [
      "5/5 [==============================] - 0s 5ms/step - loss: 0.4145 - accuracy: 0.8782\n",
      "Test Accuracy:  87.82051205635071\n"
     ]
    }
   ],
   "source": [
    "loss, acc = model.evaluate(x_train, y_train)\n",
    "print('Test Accuracy: ', acc*100)"
   ]
  },
  {
   "cell_type": "code",
   "execution_count": 15,
   "metadata": {},
   "outputs": [
    {
     "data": {
      "text/plain": [
       "<matplotlib.legend.Legend at 0x21fe2d09610>"
      ]
     },
     "execution_count": 15,
     "metadata": {},
     "output_type": "execute_result"
    },
    {
     "data": {
      "image/png": "[encoded data removed]",
      "text/plain": [
       "<Figure size 720x576 with 1 Axes>"
      ]
     },
     "metadata": {},
     "output_type": "display_data"
    }
   ],
   "source": [
    "import matplotlib.pyplot as plt\n",
    "\n",
    "epochs = np.arange(0, len(h.history['loss']))\n",
    "plt.figure(figsize = (10,8))\n",
    "plt.style.use('ggplot')\n",
    "\n",
    "plt.style.use('ggplot')\n",
    "plt.plot(epochs , h.history['loss'] , label = 'train_loss')\n",
    "plt.plot(epochs, h.history[\"val_loss\"], label=\"val_loss\")\n",
    "plt.title(\"Training Vs Validation Loss\")\n",
    "plt.xlabel(\"Epoch #\")\n",
    "plt.ylabel(\"Loss\")\n",
    "plt.legend()"
   ]
  },
  {
   "cell_type": "markdown",
   "metadata": {},
   "source": [
    "# Adding dropout and regularization"
   ]
  },
  {
   "cell_type": "code",
   "execution_count": 16,
   "metadata": {},
   "outputs": [
    {
     "name": "stdout",
     "output_type": "stream",
     "text": [
      "Epoch 1/100\n",
      "14/14 [==============================] - 2s 26ms/step - loss: 6.8761 - accuracy: 0.5413 - val_loss: 6.1990 - val_accuracy: 0.5745\n",
      "Epoch 2/100\n",
      "14/14 [==============================] - 0s 7ms/step - loss: 5.7065 - accuracy: 0.5596 - val_loss: 5.1421 - val_accuracy: 0.5745\n",
      "Epoch 3/100\n",
      "14/14 [==============================] - 0s 6ms/step - loss: 4.7308 - accuracy: 0.5780 - val_loss: 4.2646 - val_accuracy: 0.6596\n",
      "Epoch 4/100\n",
      "14/14 [==============================] - 0s 7ms/step - loss: 3.9249 - accuracy: 0.6239 - val_loss: 3.5461 - val_accuracy: 0.6596\n",
      "Epoch 5/100\n",
      "14/14 [==============================] - 0s 7ms/step - loss: 3.2723 - accuracy: 0.6330 - val_loss: 2.9611 - val_accuracy: 0.6809\n",
      "Epoch 6/100\n",
      "14/14 [==============================] - 0s 7ms/step - loss: 2.7425 - accuracy: 0.6239 - val_loss: 2.4840 - val_accuracy: 0.7660\n",
      "Epoch 7/100\n",
      "14/14 [==============================] - 0s 7ms/step - loss: 2.3047 - accuracy: 0.6606 - val_loss: 2.0966 - val_accuracy: 0.7234\n",
      "Epoch 8/100\n",
      "14/14 [==============================] - 0s 7ms/step - loss: 1.9454 - accuracy: 0.6697 - val_loss: 1.7879 - val_accuracy: 0.6596\n",
      "Epoch 9/100\n",
      "14/14 [==============================] - 0s 6ms/step - loss: 1.6770 - accuracy: 0.6789 - val_loss: 1.5396 - val_accuracy: 0.7021\n",
      "Epoch 10/100\n",
      "14/14 [==============================] - 0s 9ms/step - loss: 1.4497 - accuracy: 0.6606 - val_loss: 1.3350 - val_accuracy: 0.7660\n",
      "Epoch 11/100\n",
      "14/14 [==============================] - 0s 8ms/step - loss: 1.2685 - accuracy: 0.6789 - val_loss: 1.1747 - val_accuracy: 0.7660\n",
      "Epoch 12/100\n",
      "14/14 [==============================] - 0s 7ms/step - loss: 1.1187 - accuracy: 0.7339 - val_loss: 1.0419 - val_accuracy: 0.7660\n",
      "Epoch 13/100\n",
      "14/14 [==============================] - 0s 7ms/step - loss: 1.0009 - accuracy: 0.7248 - val_loss: 0.9340 - val_accuracy: 0.7872\n",
      "Epoch 14/100\n",
      "14/14 [==============================] - 0s 6ms/step - loss: 0.9219 - accuracy: 0.7064 - val_loss: 0.8471 - val_accuracy: 0.8085\n",
      "Epoch 15/100\n",
      "14/14 [==============================] - 0s 8ms/step - loss: 0.8323 - accuracy: 0.7615 - val_loss: 0.7794 - val_accuracy: 0.8511\n",
      "Epoch 16/100\n",
      "14/14 [==============================] - 0s 7ms/step - loss: 0.7528 - accuracy: 0.7523 - val_loss: 0.7302 - val_accuracy: 0.8511\n",
      "Epoch 17/100\n",
      "14/14 [==============================] - 0s 8ms/step - loss: 0.7023 - accuracy: 0.8165 - val_loss: 0.6879 - val_accuracy: 0.8298\n",
      "Epoch 18/100\n",
      "14/14 [==============================] - 0s 6ms/step - loss: 0.6870 - accuracy: 0.7339 - val_loss: 0.6786 - val_accuracy: 0.7447\n",
      "Epoch 19/100\n",
      "14/14 [==============================] - 0s 7ms/step - loss: 0.6378 - accuracy: 0.7982 - val_loss: 0.6079 - val_accuracy: 0.8298\n",
      "Epoch 20/100\n",
      "14/14 [==============================] - 0s 9ms/step - loss: 0.5875 - accuracy: 0.7982 - val_loss: 0.6425 - val_accuracy: 0.7660\n",
      "Epoch 21/100\n",
      "14/14 [==============================] - 0s 8ms/step - loss: 0.5550 - accuracy: 0.7798 - val_loss: 0.5756 - val_accuracy: 0.7872\n",
      "Epoch 22/100\n",
      "14/14 [==============================] - 0s 7ms/step - loss: 0.5950 - accuracy: 0.7798 - val_loss: 0.5564 - val_accuracy: 0.8085\n",
      "Epoch 23/100\n",
      "14/14 [==============================] - 0s 6ms/step - loss: 0.5236 - accuracy: 0.8257 - val_loss: 0.5480 - val_accuracy: 0.8085\n",
      "Epoch 24/100\n",
      "14/14 [==============================] - 0s 6ms/step - loss: 0.4956 - accuracy: 0.8349 - val_loss: 0.5436 - val_accuracy: 0.8298\n",
      "Epoch 25/100\n",
      "14/14 [==============================] - 0s 8ms/step - loss: 0.5114 - accuracy: 0.7982 - val_loss: 0.5735 - val_accuracy: 0.8511\n",
      "Epoch 26/100\n",
      "14/14 [==============================] - 0s 7ms/step - loss: 0.5371 - accuracy: 0.7706 - val_loss: 0.5284 - val_accuracy: 0.8298\n",
      "Epoch 27/100\n",
      "14/14 [==============================] - 0s 7ms/step - loss: 0.5567 - accuracy: 0.7706 - val_loss: 0.5325 - val_accuracy: 0.8298\n",
      "Epoch 28/100\n",
      "14/14 [==============================] - 0s 7ms/step - loss: 0.5082 - accuracy: 0.8532 - val_loss: 0.5110 - val_accuracy: 0.8511\n",
      "Epoch 29/100\n",
      "14/14 [==============================] - 0s 7ms/step - loss: 0.4847 - accuracy: 0.7982 - val_loss: 0.5208 - val_accuracy: 0.8298\n",
      "Epoch 30/100\n",
      "14/14 [==============================] - 0s 7ms/step - loss: 0.4597 - accuracy: 0.8349 - val_loss: 0.5411 - val_accuracy: 0.8085\n",
      "Epoch 31/100\n",
      "14/14 [==============================] - 0s 8ms/step - loss: 0.4439 - accuracy: 0.8624 - val_loss: 0.5176 - val_accuracy: 0.8298\n",
      "Epoch 32/100\n",
      "14/14 [==============================] - 0s 7ms/step - loss: 0.4365 - accuracy: 0.8165 - val_loss: 0.5187 - val_accuracy: 0.8298\n",
      "Epoch 33/100\n",
      "14/14 [==============================] - 0s 7ms/step - loss: 0.3886 - accuracy: 0.9174 - val_loss: 0.5272 - val_accuracy: 0.8085\n",
      "Epoch 34/100\n",
      "14/14 [==============================] - 0s 8ms/step - loss: 0.3994 - accuracy: 0.8991 - val_loss: 0.5164 - val_accuracy: 0.8511\n",
      "Epoch 35/100\n",
      "14/14 [==============================] - 0s 7ms/step - loss: 0.4593 - accuracy: 0.7982 - val_loss: 0.5543 - val_accuracy: 0.7660\n",
      "Epoch 36/100\n",
      "14/14 [==============================] - 0s 7ms/step - loss: 0.4372 - accuracy: 0.8716 - val_loss: 0.5142 - val_accuracy: 0.7872\n",
      "Epoch 37/100\n",
      "14/14 [==============================] - 0s 6ms/step - loss: 0.4541 - accuracy: 0.8440 - val_loss: 0.5151 - val_accuracy: 0.8298\n",
      "Epoch 38/100\n",
      "14/14 [==============================] - 0s 7ms/step - loss: 0.4092 - accuracy: 0.8991 - val_loss: 0.5276 - val_accuracy: 0.8298\n",
      "Epoch 39/100\n",
      "14/14 [==============================] - 0s 6ms/step - loss: 0.4375 - accuracy: 0.8532 - val_loss: 0.5202 - val_accuracy: 0.8298\n",
      "Epoch 40/100\n",
      "14/14 [==============================] - 0s 6ms/step - loss: 0.4530 - accuracy: 0.8716 - val_loss: 0.6888 - val_accuracy: 0.7447\n",
      "Epoch 41/100\n",
      "14/14 [==============================] - 0s 8ms/step - loss: 0.5420 - accuracy: 0.8165 - val_loss: 0.6067 - val_accuracy: 0.7872\n",
      "Epoch 42/100\n",
      "14/14 [==============================] - 0s 6ms/step - loss: 0.4590 - accuracy: 0.8257 - val_loss: 0.5091 - val_accuracy: 0.8298\n",
      "Epoch 43/100\n",
      "14/14 [==============================] - 0s 6ms/step - loss: 0.4001 - accuracy: 0.9083 - val_loss: 0.5243 - val_accuracy: 0.8298\n",
      "Epoch 44/100\n",
      "14/14 [==============================] - 0s 6ms/step - loss: 0.3856 - accuracy: 0.9083 - val_loss: 0.5302 - val_accuracy: 0.8298\n",
      "Epoch 45/100\n",
      "14/14 [==============================] - 0s 6ms/step - loss: 0.4385 - accuracy: 0.8165 - val_loss: 0.5274 - val_accuracy: 0.8085\n",
      "Epoch 46/100\n",
      "14/14 [==============================] - 0s 7ms/step - loss: 0.3870 - accuracy: 0.8899 - val_loss: 0.5035 - val_accuracy: 0.8298\n",
      "Epoch 47/100\n",
      "14/14 [==============================] - 0s 6ms/step - loss: 0.3863 - accuracy: 0.8807 - val_loss: 0.5125 - val_accuracy: 0.8298\n",
      "Epoch 48/100\n",
      "14/14 [==============================] - 0s 6ms/step - loss: 0.3470 - accuracy: 0.9174 - val_loss: 0.5151 - val_accuracy: 0.8085\n",
      "Epoch 49/100\n",
      "14/14 [==============================] - 0s 6ms/step - loss: 0.3483 - accuracy: 0.9083 - val_loss: 0.5263 - val_accuracy: 0.8085\n",
      "Epoch 50/100\n",
      "14/14 [==============================] - 0s 6ms/step - loss: 0.4107 - accuracy: 0.8532 - val_loss: 0.7601 - val_accuracy: 0.7021\n",
      "Epoch 51/100\n",
      "14/14 [==============================] - 0s 6ms/step - loss: 0.5949 - accuracy: 0.7523 - val_loss: 0.4981 - val_accuracy: 0.8511\n",
      "Epoch 52/100\n",
      "14/14 [==============================] - 0s 6ms/step - loss: 0.3974 - accuracy: 0.8807 - val_loss: 0.4889 - val_accuracy: 0.8511\n",
      "Epoch 53/100\n",
      "14/14 [==============================] - 0s 6ms/step - loss: 0.3753 - accuracy: 0.9174 - val_loss: 0.5073 - val_accuracy: 0.8511\n",
      "Epoch 54/100\n",
      "14/14 [==============================] - 0s 9ms/step - loss: 0.3499 - accuracy: 0.9174 - val_loss: 0.5283 - val_accuracy: 0.8298\n",
      "Epoch 55/100\n",
      "14/14 [==============================] - 0s 6ms/step - loss: 0.3328 - accuracy: 0.9541 - val_loss: 0.5544 - val_accuracy: 0.8085\n",
      "Epoch 56/100\n",
      "14/14 [==============================] - 0s 7ms/step - loss: 0.3395 - accuracy: 0.9174 - val_loss: 0.5686 - val_accuracy: 0.8085\n",
      "Epoch 57/100\n",
      "14/14 [==============================] - 0s 6ms/step - loss: 0.3366 - accuracy: 0.9358 - val_loss: 0.5155 - val_accuracy: 0.8511\n",
      "Epoch 58/100\n",
      "14/14 [==============================] - 0s 6ms/step - loss: 0.3464 - accuracy: 0.8716 - val_loss: 0.5153 - val_accuracy: 0.8511\n"
     ]
    },
    {
     "name": "stdout",
     "output_type": "stream",
     "text": [
      "Epoch 59/100\n",
      "14/14 [==============================] - 0s 6ms/step - loss: 0.3835 - accuracy: 0.8807 - val_loss: 0.5163 - val_accuracy: 0.8723\n",
      "Epoch 60/100\n",
      "14/14 [==============================] - 0s 6ms/step - loss: 0.3091 - accuracy: 0.9358 - val_loss: 0.5411 - val_accuracy: 0.8511\n",
      "Epoch 61/100\n",
      "14/14 [==============================] - 0s 6ms/step - loss: 0.3523 - accuracy: 0.8991 - val_loss: 0.5329 - val_accuracy: 0.8511\n",
      "Epoch 62/100\n",
      "14/14 [==============================] - 0s 6ms/step - loss: 0.3191 - accuracy: 0.9541 - val_loss: 0.5160 - val_accuracy: 0.8723\n",
      "Epoch 63/100\n",
      "14/14 [==============================] - 0s 6ms/step - loss: 0.3213 - accuracy: 0.9083 - val_loss: 0.5526 - val_accuracy: 0.8511\n",
      "Epoch 64/100\n",
      "14/14 [==============================] - 0s 7ms/step - loss: 0.3080 - accuracy: 0.9266 - val_loss: 0.5466 - val_accuracy: 0.8511\n",
      "Epoch 65/100\n",
      "14/14 [==============================] - 0s 7ms/step - loss: 0.3723 - accuracy: 0.8807 - val_loss: 0.5125 - val_accuracy: 0.8511\n",
      "Epoch 66/100\n",
      "14/14 [==============================] - 0s 15ms/step - loss: 0.2843 - accuracy: 0.9358 - val_loss: 0.5380 - val_accuracy: 0.8511\n",
      "Epoch 67/100\n",
      "14/14 [==============================] - 0s 10ms/step - loss: 0.3872 - accuracy: 0.8624 - val_loss: 0.5928 - val_accuracy: 0.8298\n",
      "Epoch 68/100\n",
      "14/14 [==============================] - 0s 10ms/step - loss: 0.4084 - accuracy: 0.8073 - val_loss: 0.5982 - val_accuracy: 0.8298\n",
      "Epoch 69/100\n",
      "14/14 [==============================] - 0s 10ms/step - loss: 0.3923 - accuracy: 0.8716 - val_loss: 0.5476 - val_accuracy: 0.8298\n",
      "Epoch 70/100\n",
      "14/14 [==============================] - 0s 6ms/step - loss: 0.2982 - accuracy: 0.9358 - val_loss: 0.5379 - val_accuracy: 0.8298\n",
      "Epoch 71/100\n",
      "14/14 [==============================] - 0s 7ms/step - loss: 0.2830 - accuracy: 0.9541 - val_loss: 0.5545 - val_accuracy: 0.8511\n",
      "Epoch 72/100\n",
      "14/14 [==============================] - 0s 6ms/step - loss: 0.3881 - accuracy: 0.8440 - val_loss: 0.5833 - val_accuracy: 0.8085\n",
      "Epoch 73/100\n",
      "14/14 [==============================] - 0s 10ms/step - loss: 0.3509 - accuracy: 0.8716 - val_loss: 0.6533 - val_accuracy: 0.8085\n",
      "Epoch 74/100\n",
      "14/14 [==============================] - 0s 9ms/step - loss: 0.5392 - accuracy: 0.7890 - val_loss: 0.7908 - val_accuracy: 0.7447\n",
      "Epoch 75/100\n",
      "14/14 [==============================] - 0s 9ms/step - loss: 0.5218 - accuracy: 0.7798 - val_loss: 0.4957 - val_accuracy: 0.8298\n",
      "Epoch 76/100\n",
      "14/14 [==============================] - 0s 10ms/step - loss: 0.3632 - accuracy: 0.9083 - val_loss: 0.5145 - val_accuracy: 0.8298\n",
      "Epoch 77/100\n",
      "14/14 [==============================] - 0s 6ms/step - loss: 0.3167 - accuracy: 0.9266 - val_loss: 0.5472 - val_accuracy: 0.8511\n",
      "Epoch 78/100\n",
      "14/14 [==============================] - 0s 9ms/step - loss: 0.2798 - accuracy: 0.9541 - val_loss: 0.5554 - val_accuracy: 0.8723\n",
      "Epoch 79/100\n",
      "14/14 [==============================] - 0s 10ms/step - loss: 0.2847 - accuracy: 0.9358 - val_loss: 0.6284 - val_accuracy: 0.8085\n",
      "Epoch 80/100\n",
      "14/14 [==============================] - 0s 9ms/step - loss: 0.3360 - accuracy: 0.8991 - val_loss: 0.5441 - val_accuracy: 0.8511\n",
      "Epoch 81/100\n",
      "14/14 [==============================] - 0s 11ms/step - loss: 0.2955 - accuracy: 0.9266 - val_loss: 0.5445 - val_accuracy: 0.8511\n",
      "Epoch 82/100\n",
      "14/14 [==============================] - 0s 6ms/step - loss: 0.2733 - accuracy: 0.9541 - val_loss: 0.5408 - val_accuracy: 0.8511\n",
      "Epoch 83/100\n",
      "14/14 [==============================] - 0s 6ms/step - loss: 0.2672 - accuracy: 0.9450 - val_loss: 0.5749 - val_accuracy: 0.8298\n",
      "Epoch 84/100\n",
      "14/14 [==============================] - 0s 10ms/step - loss: 0.2692 - accuracy: 0.9450 - val_loss: 0.5430 - val_accuracy: 0.8511\n",
      "Epoch 85/100\n",
      "14/14 [==============================] - 0s 9ms/step - loss: 0.2745 - accuracy: 0.9450 - val_loss: 0.6559 - val_accuracy: 0.8298\n",
      "Epoch 86/100\n",
      "14/14 [==============================] - 0s 6ms/step - loss: 0.4866 - accuracy: 0.8073 - val_loss: 0.8968 - val_accuracy: 0.6809\n",
      "Epoch 87/100\n",
      "14/14 [==============================] - 0s 9ms/step - loss: 0.4731 - accuracy: 0.8440 - val_loss: 0.5025 - val_accuracy: 0.8298\n",
      "Epoch 88/100\n",
      "14/14 [==============================] - 0s 8ms/step - loss: 0.4718 - accuracy: 0.8440 - val_loss: 0.4968 - val_accuracy: 0.8298\n",
      "Epoch 89/100\n",
      "14/14 [==============================] - 0s 8ms/step - loss: 0.3408 - accuracy: 0.9083 - val_loss: 0.4766 - val_accuracy: 0.8511\n",
      "Epoch 90/100\n",
      "14/14 [==============================] - 0s 9ms/step - loss: 0.2891 - accuracy: 0.9633 - val_loss: 0.5085 - val_accuracy: 0.8511\n",
      "Epoch 91/100\n",
      "14/14 [==============================] - 0s 9ms/step - loss: 0.2450 - accuracy: 0.9817 - val_loss: 0.5344 - val_accuracy: 0.8511\n",
      "Epoch 92/100\n",
      "14/14 [==============================] - 0s 8ms/step - loss: 0.2628 - accuracy: 0.9725 - val_loss: 0.5542 - val_accuracy: 0.8511\n",
      "Epoch 93/100\n",
      "14/14 [==============================] - 0s 10ms/step - loss: 0.2550 - accuracy: 0.9633 - val_loss: 0.5368 - val_accuracy: 0.8723\n",
      "Epoch 94/100\n",
      "14/14 [==============================] - 0s 9ms/step - loss: 0.2889 - accuracy: 0.9358 - val_loss: 0.5735 - val_accuracy: 0.8085\n",
      "Epoch 95/100\n",
      "14/14 [==============================] - 0s 9ms/step - loss: 0.2642 - accuracy: 0.9450 - val_loss: 0.5793 - val_accuracy: 0.8085\n",
      "Epoch 96/100\n",
      "14/14 [==============================] - 0s 10ms/step - loss: 0.2292 - accuracy: 0.9541 - val_loss: 0.5807 - val_accuracy: 0.8511\n",
      "Epoch 97/100\n",
      "14/14 [==============================] - 0s 7ms/step - loss: 0.2493 - accuracy: 0.9633 - val_loss: 0.5875 - val_accuracy: 0.8511\n",
      "Epoch 98/100\n",
      "14/14 [==============================] - 0s 7ms/step - loss: 0.2228 - accuracy: 0.9725 - val_loss: 0.5595 - val_accuracy: 0.8723\n",
      "Epoch 99/100\n",
      "14/14 [==============================] - 0s 6ms/step - loss: 0.2213 - accuracy: 0.9725 - val_loss: 0.5645 - val_accuracy: 0.8511\n",
      "Epoch 100/100\n",
      "14/14 [==============================] - 0s 10ms/step - loss: 0.2140 - accuracy: 0.9725 - val_loss: 0.5965 - val_accuracy: 0.8511\n"
     ]
    }
   ],
   "source": [
    "#kernel_regularizer=tf.keras.regularizers.l2(0.1)\n",
    "\n",
    "\n",
    "\n",
    "model = keras.Sequential([\n",
    "    keras.layers.Dense(80, input_dim=60, activation='relu',kernel_regularizer=tf.keras.regularizers.l2(0.1)),\n",
    "    \n",
    "    keras.layers.Dense(30, activation='relu'),\n",
    "    \n",
    "    keras.layers.Dense(15, activation='relu'),\n",
    "    keras.layers.Dropout(0.1),\n",
    "    keras.layers.Dense(1, activation='sigmoid')\n",
    "])\n",
    "\n",
    "model.compile(loss='binary_crossentropy', optimizer='adam', metrics=['accuracy'])\n",
    "\n",
    "H = model.fit(x_train, y_train, epochs=100, batch_size=8, validation_split=0.3)"
   ]
  },
  {
   "cell_type": "code",
   "execution_count": 17,
   "metadata": {},
   "outputs": [
    {
     "name": "stdout",
     "output_type": "stream",
     "text": [
      "2/2 [==============================] - 0s 6ms/step - loss: 0.6936 - accuracy: 0.7692\n",
      "Test Accuracy:  76.92307829856873\n"
     ]
    }
   ],
   "source": [
    "loss, acc = model.evaluate(x_test, y_test)\n",
    "print('Test Accuracy: ', acc*100)"
   ]
  },
  {
   "cell_type": "code",
   "execution_count": 18,
   "metadata": {},
   "outputs": [
    {
     "name": "stdout",
     "output_type": "stream",
     "text": [
      "5/5 [==============================] - 0s 5ms/step - loss: 0.3232 - accuracy: 0.9423\n",
      "Test Accuracy:  94.2307710647583\n"
     ]
    }
   ],
   "source": [
    "loss, acc = model.evaluate(x_train, y_train)\n",
    "print('Test Accuracy: ', acc*100)"
   ]
  },
  {
   "cell_type": "code",
   "execution_count": 19,
   "metadata": {},
   "outputs": [
    {
     "data": {
      "text/plain": [
       "<matplotlib.legend.Legend at 0x21fe42611c0>"
      ]
     },
     "execution_count": 19,
     "metadata": {},
     "output_type": "execute_result"
    },
    {
     "data": {
      "image/png": "[encoded data removed]",
      "text/plain": [
       "<Figure size 720x576 with 1 Axes>"
      ]
     },
     "metadata": {},
     "output_type": "display_data"
    }
   ],
   "source": [
    "import matplotlib.pyplot as plt\n",
    "\n",
    "epochs = np.arange(0, len(h.history['loss']))\n",
    "plt.figure(figsize = (10,8))\n",
    "plt.style.use('ggplot')\n",
    "\n",
    "plt.style.use('ggplot')\n",
    "plt.plot(epochs , h.history['loss'] , label = 'train_loss')\n",
    "plt.plot(epochs, h.history[\"val_loss\"], label=\"val_loss\")\n",
    "plt.title(\"Training Vs Validation Loss\")\n",
    "plt.xlabel(\"Epoch #\")\n",
    "plt.ylabel(\"Loss\")\n",
    "plt.legend()"
   ]
  },
  {
   "cell_type": "markdown",
   "metadata": {},
   "source": [
    "# Early Stopping"
   ]
  },
  {
   "cell_type": "markdown",
   "metadata": {},
   "source": [
    "Early stopping is a technique that can avoid over-training and hence overfitting of the model. An over-trained model has a tendency to memorize all the training data points. With early stopping, a large arbitrary number of training epochs is specified. The model is stopped from training further when the model performance stops improving on the validation dataset."
   ]
  },
  {
   "cell_type": "code",
   "execution_count": 20,
   "metadata": {},
   "outputs": [
    {
     "name": "stdout",
     "output_type": "stream",
     "text": [
      "Epoch 1/100\n",
      "14/14 [==============================] - 3s 30ms/step - loss: 7.0139 - accuracy: 0.3761 - val_loss: 6.3186 - val_accuracy: 0.4681\n",
      "Epoch 2/100\n",
      "14/14 [==============================] - 0s 9ms/step - loss: 5.8151 - accuracy: 0.5321 - val_loss: 5.2289 - val_accuracy: 0.5745\n",
      "Epoch 3/100\n",
      "14/14 [==============================] - 0s 7ms/step - loss: 4.8091 - accuracy: 0.5229 - val_loss: 4.3245 - val_accuracy: 0.5319\n",
      "Epoch 4/100\n",
      "14/14 [==============================] - 0s 11ms/step - loss: 3.9814 - accuracy: 0.5963 - val_loss: 3.5863 - val_accuracy: 0.5532\n",
      "Epoch 5/100\n",
      "14/14 [==============================] - 0s 7ms/step - loss: 3.3040 - accuracy: 0.6147 - val_loss: 2.9814 - val_accuracy: 0.5532\n",
      "Epoch 6/100\n",
      "14/14 [==============================] - 0s 7ms/step - loss: 2.7595 - accuracy: 0.6422 - val_loss: 2.4922 - val_accuracy: 0.6809\n",
      "Epoch 7/100\n",
      "14/14 [==============================] - 0s 7ms/step - loss: 2.3169 - accuracy: 0.6239 - val_loss: 2.0978 - val_accuracy: 0.7234\n",
      "Epoch 8/100\n",
      "14/14 [==============================] - 0s 10ms/step - loss: 1.9553 - accuracy: 0.7248 - val_loss: 1.7814 - val_accuracy: 0.7447\n",
      "Epoch 9/100\n",
      "14/14 [==============================] - 0s 8ms/step - loss: 1.6816 - accuracy: 0.6422 - val_loss: 1.5287 - val_accuracy: 0.7447\n",
      "Epoch 10/100\n",
      "14/14 [==============================] - 0s 7ms/step - loss: 1.4466 - accuracy: 0.6514 - val_loss: 1.3299 - val_accuracy: 0.7660\n",
      "Epoch 11/100\n",
      "14/14 [==============================] - 0s 7ms/step - loss: 1.2626 - accuracy: 0.7706 - val_loss: 1.1779 - val_accuracy: 0.6170\n",
      "Epoch 12/100\n",
      "14/14 [==============================] - 0s 7ms/step - loss: 1.1446 - accuracy: 0.6239 - val_loss: 1.0622 - val_accuracy: 0.6809\n",
      "Epoch 13/100\n",
      "14/14 [==============================] - 0s 13ms/step - loss: 1.0117 - accuracy: 0.6972 - val_loss: 0.9410 - val_accuracy: 0.7660\n",
      "Epoch 14/100\n",
      "14/14 [==============================] - 0s 10ms/step - loss: 0.9064 - accuracy: 0.7339 - val_loss: 0.8563 - val_accuracy: 0.8085\n",
      "Epoch 15/100\n",
      "14/14 [==============================] - 0s 7ms/step - loss: 0.8502 - accuracy: 0.7339 - val_loss: 0.8277 - val_accuracy: 0.5957\n",
      "Epoch 16/100\n",
      "14/14 [==============================] - 0s 13ms/step - loss: 0.8112 - accuracy: 0.7431 - val_loss: 0.7486 - val_accuracy: 0.7872\n",
      "Epoch 17/100\n",
      "14/14 [==============================] - 0s 12ms/step - loss: 0.7339 - accuracy: 0.7431 - val_loss: 0.7056 - val_accuracy: 0.8085\n",
      "Epoch 18/100\n",
      "14/14 [==============================] - 0s 7ms/step - loss: 0.6955 - accuracy: 0.7615 - val_loss: 0.7046 - val_accuracy: 0.7021\n",
      "Epoch 19/100\n",
      "14/14 [==============================] - 0s 7ms/step - loss: 0.6830 - accuracy: 0.7523 - val_loss: 0.6363 - val_accuracy: 0.8298\n",
      "Epoch 20/100\n",
      "14/14 [==============================] - 0s 10ms/step - loss: 0.6474 - accuracy: 0.7798 - val_loss: 0.6939 - val_accuracy: 0.6809\n",
      "Epoch 21/100\n",
      "14/14 [==============================] - 0s 10ms/step - loss: 0.6786 - accuracy: 0.7156 - val_loss: 0.6481 - val_accuracy: 0.7234\n",
      "Epoch 22/100\n",
      "14/14 [==============================] - 0s 10ms/step - loss: 0.6559 - accuracy: 0.7156 - val_loss: 0.6357 - val_accuracy: 0.7234\n",
      "Epoch 23/100\n",
      "14/14 [==============================] - 0s 8ms/step - loss: 0.6193 - accuracy: 0.7890 - val_loss: 0.5866 - val_accuracy: 0.8298\n",
      "Epoch 24/100\n",
      "14/14 [==============================] - 0s 11ms/step - loss: 0.5676 - accuracy: 0.8440 - val_loss: 0.5788 - val_accuracy: 0.8298\n",
      "Epoch 24: early stopping\n"
     ]
    }
   ],
   "source": [
    "model = keras.Sequential([\n",
    "    keras.layers.Dense(80, input_dim=60, activation='relu',kernel_regularizer=tf.keras.regularizers.l2(0.1)),\n",
    "    \n",
    "    keras.layers.Dense(30, activation='relu'),\n",
    "    \n",
    "    keras.layers.Dense(15, activation='relu'),\n",
    "    keras.layers.Dropout(0.1),\n",
    "    keras.layers.Dense(1, activation='sigmoid')\n",
    "])\n",
    "\n",
    "model.compile(loss='binary_crossentropy', optimizer='adam', metrics=['accuracy'])\n",
    "\n",
    "H = model.fit(x_train, y_train, epochs=100, batch_size=8, validation_split=0.3,callbacks=tf.keras.callbacks.EarlyStopping(monitor='val_accuracy',verbose=1, patience=5)\n",
    ")"
   ]
  },
  {
   "cell_type": "code",
   "execution_count": 21,
   "metadata": {},
   "outputs": [
    {
     "name": "stdout",
     "output_type": "stream",
     "text": [
      "2/2 [==============================] - 0s 9ms/step - loss: 0.5950 - accuracy: 0.7692\n",
      "Test Accuracy:  76.92307829856873\n"
     ]
    }
   ],
   "source": [
    "loss, acc=model.evaluate(x_test, y_test)\n",
    "print('Test Accuracy: ', acc*100)"
   ]
  },
  {
   "cell_type": "code",
   "execution_count": 22,
   "metadata": {},
   "outputs": [
    {
     "name": "stdout",
     "output_type": "stream",
     "text": [
      "5/5 [==============================] - 0s 5ms/step - loss: 0.5572 - accuracy: 0.8333\n",
      "Training Accuracy:  83.33333134651184\n"
     ]
    }
   ],
   "source": [
    "loss, acc = model.evaluate(x_train, y_train)\n",
    "print('Training Accuracy: ', acc*100)"
   ]
  },
  {
   "cell_type": "code",
   "execution_count": 23,
   "metadata": {},
   "outputs": [
    {
     "data": {
      "text/plain": [
       "<matplotlib.legend.Legend at 0x21fe2d4e670>"
      ]
     },
     "execution_count": 23,
     "metadata": {},
     "output_type": "execute_result"
    },
    {
     "data": {
      "image/png": "[encoded data removed]",
      "text/plain": [
       "<Figure size 720x576 with 1 Axes>"
      ]
     },
     "metadata": {},
     "output_type": "display_data"
    }
   ],
   "source": [
    "\n",
    "import matplotlib.pyplot as plt\n",
    "\n",
    "\n",
    "epochs = np.arange(0, len(H.history[\"loss\"]))\n",
    "plt.figure(figsize=(10,8))\n",
    "plt.style.use(\"ggplot\")\n",
    "# (fig, axs) = plt.subplots(2, 1)\n",
    "# plot the *unshifted* training and validation loss\n",
    "plt.style.use(\"ggplot\")\n",
    "plt.plot(epochs, H.history[\"loss\"], label=\"train_loss\")\n",
    "plt.plot(epochs, H.history[\"val_loss\"], label=\"val_loss\")\n",
    "plt.title(\"Training Vs Validation Loss\")\n",
    "plt.xlabel(\"Epoch #\")\n",
    "plt.ylabel(\"Loss\")\n",
    "plt.legend()"
   ]
  },
  {
   "cell_type": "markdown",
   "metadata": {},
   "source": [
    "# ModelCheckpoint Callback"
   ]
  },
  {
   "cell_type": "code",
   "execution_count": 24,
   "metadata": {},
   "outputs": [
    {
     "name": "stdout",
     "output_type": "stream",
     "text": [
      "Epoch 1/100\n",
      " 1/14 [=>............................] - ETA: 26s - loss: 0.6650 - accuracy: 0.7500\n",
      "Epoch 1: val_loss improved from inf to 0.69181, saving model to SOMETHINGELSE\n"
     ]
    },
    {
     "name": "stderr",
     "output_type": "stream",
     "text": [
      "WARNING:absl:Found untraced functions such as _update_step_xla while saving (showing 1 of 1). These functions will not be directly callable after loading.\n"
     ]
    },
    {
     "name": "stdout",
     "output_type": "stream",
     "text": [
      "INFO:tensorflow:Assets written to: SOMETHINGELSE\\assets\n"
     ]
    },
    {
     "name": "stderr",
     "output_type": "stream",
     "text": [
      "INFO:tensorflow:Assets written to: SOMETHINGELSE\\assets\n"
     ]
    },
    {
     "name": "stdout",
     "output_type": "stream",
     "text": [
      "14/14 [==============================] - 4s 139ms/step - loss: 0.7016 - accuracy: 0.4954 - val_loss: 0.6918 - val_accuracy: 0.4894\n",
      "Epoch 2/100\n",
      " 1/14 [=>............................] - ETA: 0s - loss: 0.6750 - accuracy: 0.7500\n",
      "Epoch 2: val_loss improved from 0.69181 to 0.67934, saving model to SOMETHINGELSE\n"
     ]
    },
    {
     "name": "stderr",
     "output_type": "stream",
     "text": [
      "WARNING:absl:Found untraced functions such as _update_step_xla while saving (showing 1 of 1). These functions will not be directly callable after loading.\n"
     ]
    },
    {
     "name": "stdout",
     "output_type": "stream",
     "text": [
      "INFO:tensorflow:Assets written to: SOMETHINGELSE\\assets\n"
     ]
    },
    {
     "name": "stderr",
     "output_type": "stream",
     "text": [
      "INFO:tensorflow:Assets written to: SOMETHINGELSE\\assets\n"
     ]
    },
    {
     "name": "stdout",
     "output_type": "stream",
     "text": [
      "14/14 [==============================] - 1s 114ms/step - loss: 0.6772 - accuracy: 0.5780 - val_loss: 0.6793 - val_accuracy: 0.5532\n",
      "Epoch 3/100\n",
      "10/14 [====================>.........] - ETA: 0s - loss: 0.6639 - accuracy: 0.6125\n",
      "Epoch 3: val_loss improved from 0.67934 to 0.66550, saving model to SOMETHINGELSE\n"
     ]
    },
    {
     "name": "stderr",
     "output_type": "stream",
     "text": [
      "WARNING:absl:Found untraced functions such as _update_step_xla while saving (showing 1 of 1). These functions will not be directly callable after loading.\n"
     ]
    },
    {
     "name": "stdout",
     "output_type": "stream",
     "text": [
      "INFO:tensorflow:Assets written to: SOMETHINGELSE\\assets\n"
     ]
    },
    {
     "name": "stderr",
     "output_type": "stream",
     "text": [
      "INFO:tensorflow:Assets written to: SOMETHINGELSE\\assets\n"
     ]
    },
    {
     "name": "stdout",
     "output_type": "stream",
     "text": [
      "14/14 [==============================] - 1s 110ms/step - loss: 0.6679 - accuracy: 0.5780 - val_loss: 0.6655 - val_accuracy: 0.5745\n",
      "Epoch 4/100\n",
      " 7/14 [==============>...............] - ETA: 0s - loss: 0.6438 - accuracy: 0.6429\n",
      "Epoch 4: val_loss improved from 0.66550 to 0.64725, saving model to SOMETHINGELSE\n"
     ]
    },
    {
     "name": "stderr",
     "output_type": "stream",
     "text": [
      "WARNING:absl:Found untraced functions such as _update_step_xla while saving (showing 1 of 1). These functions will not be directly callable after loading.\n"
     ]
    },
    {
     "name": "stdout",
     "output_type": "stream",
     "text": [
      "INFO:tensorflow:Assets written to: SOMETHINGELSE\\assets\n"
     ]
    },
    {
     "name": "stderr",
     "output_type": "stream",
     "text": [
      "INFO:tensorflow:Assets written to: SOMETHINGELSE\\assets\n"
     ]
    },
    {
     "name": "stdout",
     "output_type": "stream",
     "text": [
      "14/14 [==============================] - 2s 122ms/step - loss: 0.6560 - accuracy: 0.6147 - val_loss: 0.6473 - val_accuracy: 0.7872\n",
      "Epoch 5/100\n",
      "14/14 [==============================] - ETA: 0s - loss: 0.6348 - accuracy: 0.7064\n",
      "Epoch 5: val_loss improved from 0.64725 to 0.61788, saving model to SOMETHINGELSE\n"
     ]
    },
    {
     "name": "stderr",
     "output_type": "stream",
     "text": [
      "WARNING:absl:Found untraced functions such as _update_step_xla while saving (showing 1 of 1). These functions will not be directly callable after loading.\n"
     ]
    },
    {
     "name": "stdout",
     "output_type": "stream",
     "text": [
      "INFO:tensorflow:Assets written to: SOMETHINGELSE\\assets\n"
     ]
    },
    {
     "name": "stderr",
     "output_type": "stream",
     "text": [
      "INFO:tensorflow:Assets written to: SOMETHINGELSE\\assets\n"
     ]
    },
    {
     "name": "stdout",
     "output_type": "stream",
     "text": [
      "14/14 [==============================] - 2s 128ms/step - loss: 0.6348 - accuracy: 0.7064 - val_loss: 0.6179 - val_accuracy: 0.8511\n",
      "Epoch 6/100\n",
      " 1/14 [=>............................] - ETA: 0s - loss: 0.7049 - accuracy: 0.6250\n",
      "Epoch 6: val_loss improved from 0.61788 to 0.59291, saving model to SOMETHINGELSE\n"
     ]
    },
    {
     "name": "stderr",
     "output_type": "stream",
     "text": [
      "WARNING:absl:Found untraced functions such as _update_step_xla while saving (showing 1 of 1). These functions will not be directly callable after loading.\n"
     ]
    },
    {
     "name": "stdout",
     "output_type": "stream",
     "text": [
      "INFO:tensorflow:Assets written to: SOMETHINGELSE\\assets\n"
     ]
    },
    {
     "name": "stderr",
     "output_type": "stream",
     "text": [
      "INFO:tensorflow:Assets written to: SOMETHINGELSE\\assets\n"
     ]
    },
    {
     "name": "stdout",
     "output_type": "stream",
     "text": [
      "14/14 [==============================] - 2s 153ms/step - loss: 0.6149 - accuracy: 0.7248 - val_loss: 0.5929 - val_accuracy: 0.7872\n",
      "Epoch 7/100\n",
      " 1/14 [=>............................] - ETA: 0s - loss: 0.5365 - accuracy: 0.8750\n",
      "Epoch 7: val_loss improved from 0.59291 to 0.56168, saving model to SOMETHINGELSE\n"
     ]
    },
    {
     "name": "stderr",
     "output_type": "stream",
     "text": [
      "WARNING:absl:Found untraced functions such as _update_step_xla while saving (showing 1 of 1). These functions will not be directly callable after loading.\n"
     ]
    },
    {
     "name": "stdout",
     "output_type": "stream",
     "text": [
      "INFO:tensorflow:Assets written to: SOMETHINGELSE\\assets\n"
     ]
    },
    {
     "name": "stderr",
     "output_type": "stream",
     "text": [
      "INFO:tensorflow:Assets written to: SOMETHINGELSE\\assets\n"
     ]
    },
    {
     "name": "stdout",
     "output_type": "stream",
     "text": [
      "14/14 [==============================] - 2s 129ms/step - loss: 0.5869 - accuracy: 0.7248 - val_loss: 0.5617 - val_accuracy: 0.8936\n",
      "Epoch 8/100\n",
      " 1/14 [=>............................] - ETA: 0s - loss: 0.5446 - accuracy: 1.0000\n",
      "Epoch 8: val_loss improved from 0.56168 to 0.53356, saving model to SOMETHINGELSE\n"
     ]
    },
    {
     "name": "stderr",
     "output_type": "stream",
     "text": [
      "WARNING:absl:Found untraced functions such as _update_step_xla while saving (showing 1 of 1). These functions will not be directly callable after loading.\n"
     ]
    },
    {
     "name": "stdout",
     "output_type": "stream",
     "text": [
      "INFO:tensorflow:Assets written to: SOMETHINGELSE\\assets\n"
     ]
    },
    {
     "name": "stderr",
     "output_type": "stream",
     "text": [
      "INFO:tensorflow:Assets written to: SOMETHINGELSE\\assets\n"
     ]
    },
    {
     "name": "stdout",
     "output_type": "stream",
     "text": [
      "14/14 [==============================] - 2s 119ms/step - loss: 0.5676 - accuracy: 0.7982 - val_loss: 0.5336 - val_accuracy: 0.8298\n",
      "Epoch 9/100\n",
      " 1/14 [=>............................] - ETA: 0s - loss: 0.5085 - accuracy: 0.8750\n",
      "Epoch 9: val_loss improved from 0.53356 to 0.52081, saving model to SOMETHINGELSE\n"
     ]
    },
    {
     "name": "stderr",
     "output_type": "stream",
     "text": [
      "WARNING:absl:Found untraced functions such as _update_step_xla while saving (showing 1 of 1). These functions will not be directly callable after loading.\n"
     ]
    },
    {
     "name": "stdout",
     "output_type": "stream",
     "text": [
      "INFO:tensorflow:Assets written to: SOMETHINGELSE\\assets\n"
     ]
    },
    {
     "name": "stderr",
     "output_type": "stream",
     "text": [
      "INFO:tensorflow:Assets written to: SOMETHINGELSE\\assets\n"
     ]
    },
    {
     "name": "stdout",
     "output_type": "stream",
     "text": [
      "14/14 [==============================] - 2s 121ms/step - loss: 0.5240 - accuracy: 0.7982 - val_loss: 0.5208 - val_accuracy: 0.7234\n",
      "Epoch 10/100\n",
      " 1/14 [=>............................] - ETA: 0s - loss: 0.5066 - accuracy: 0.7500\n",
      "Epoch 10: val_loss did not improve from 0.52081\n",
      "14/14 [==============================] - 0s 8ms/step - loss: 0.5273 - accuracy: 0.7248 - val_loss: 0.5369 - val_accuracy: 0.7234\n",
      "Epoch 11/100\n",
      "13/14 [==========================>...] - ETA: 0s - loss: 0.4899 - accuracy: 0.7981\n",
      "Epoch 11: val_loss improved from 0.52081 to 0.44201, saving model to SOMETHINGELSE\n"
     ]
    },
    {
     "name": "stderr",
     "output_type": "stream",
     "text": [
      "WARNING:absl:Found untraced functions such as _update_step_xla while saving (showing 1 of 1). These functions will not be directly callable after loading.\n"
     ]
    },
    {
     "name": "stdout",
     "output_type": "stream",
     "text": [
      "INFO:tensorflow:Assets written to: SOMETHINGELSE\\assets\n"
     ]
    },
    {
     "name": "stderr",
     "output_type": "stream",
     "text": [
      "INFO:tensorflow:Assets written to: SOMETHINGELSE\\assets\n"
     ]
    },
    {
     "name": "stdout",
     "output_type": "stream",
     "text": [
      "14/14 [==============================] - 2s 133ms/step - loss: 0.4847 - accuracy: 0.8073 - val_loss: 0.4420 - val_accuracy: 0.8511\n",
      "Epoch 12/100\n",
      " 1/14 [=>............................] - ETA: 0s - loss: 0.5070 - accuracy: 0.7500\n",
      "Epoch 12: val_loss improved from 0.44201 to 0.43740, saving model to SOMETHINGELSE\n"
     ]
    },
    {
     "name": "stderr",
     "output_type": "stream",
     "text": [
      "WARNING:absl:Found untraced functions such as _update_step_xla while saving (showing 1 of 1). These functions will not be directly callable after loading.\n"
     ]
    },
    {
     "name": "stdout",
     "output_type": "stream",
     "text": [
      "INFO:tensorflow:Assets written to: SOMETHINGELSE\\assets\n"
     ]
    },
    {
     "name": "stderr",
     "output_type": "stream",
     "text": [
      "INFO:tensorflow:Assets written to: SOMETHINGELSE\\assets\n"
     ]
    },
    {
     "name": "stdout",
     "output_type": "stream",
     "text": [
      "14/14 [==============================] - 2s 136ms/step - loss: 0.4472 - accuracy: 0.8440 - val_loss: 0.4374 - val_accuracy: 0.8511\n",
      "Epoch 13/100\n",
      " 1/14 [=>............................] - ETA: 0s - loss: 0.4115 - accuracy: 0.8750\n",
      "Epoch 13: val_loss improved from 0.43740 to 0.41166, saving model to SOMETHINGELSE\n"
     ]
    },
    {
     "name": "stderr",
     "output_type": "stream",
     "text": [
      "WARNING:absl:Found untraced functions such as _update_step_xla while saving (showing 1 of 1). These functions will not be directly callable after loading.\n"
     ]
    },
    {
     "name": "stdout",
     "output_type": "stream",
     "text": [
      "INFO:tensorflow:Assets written to: SOMETHINGELSE\\assets\n"
     ]
    },
    {
     "name": "stderr",
     "output_type": "stream",
     "text": [
      "INFO:tensorflow:Assets written to: SOMETHINGELSE\\assets\n"
     ]
    },
    {
     "name": "stdout",
     "output_type": "stream",
     "text": [
      "14/14 [==============================] - 2s 180ms/step - loss: 0.4313 - accuracy: 0.8165 - val_loss: 0.4117 - val_accuracy: 0.8723\n",
      "Epoch 14/100\n",
      "10/14 [====================>.........] - ETA: 0s - loss: 0.4364 - accuracy: 0.8000\n",
      "Epoch 14: val_loss improved from 0.41166 to 0.37920, saving model to SOMETHINGELSE\n"
     ]
    },
    {
     "name": "stderr",
     "output_type": "stream",
     "text": [
      "WARNING:absl:Found untraced functions such as _update_step_xla while saving (showing 1 of 1). These functions will not be directly callable after loading.\n"
     ]
    },
    {
     "name": "stdout",
     "output_type": "stream",
     "text": [
      "INFO:tensorflow:Assets written to: SOMETHINGELSE\\assets\n"
     ]
    },
    {
     "name": "stderr",
     "output_type": "stream",
     "text": [
      "INFO:tensorflow:Assets written to: SOMETHINGELSE\\assets\n"
     ]
    },
    {
     "name": "stdout",
     "output_type": "stream",
     "text": [
      "14/14 [==============================] - 2s 132ms/step - loss: 0.4162 - accuracy: 0.8165 - val_loss: 0.3792 - val_accuracy: 0.8298\n",
      "Epoch 15/100\n",
      " 1/14 [=>............................] - ETA: 0s - loss: 0.3419 - accuracy: 0.8750\n",
      "Epoch 15: val_loss did not improve from 0.37920\n",
      "14/14 [==============================] - 0s 6ms/step - loss: 0.3676 - accuracy: 0.8991 - val_loss: 0.3884 - val_accuracy: 0.8511\n",
      "Epoch 16/100\n",
      " 1/14 [=>............................] - ETA: 0s - loss: 0.3910 - accuracy: 0.8750\n",
      "Epoch 16: val_loss did not improve from 0.37920\n",
      "14/14 [==============================] - 0s 6ms/step - loss: 0.3593 - accuracy: 0.8899 - val_loss: 0.3824 - val_accuracy: 0.8511\n",
      "Epoch 17/100\n",
      " 1/14 [=>............................] - ETA: 0s - loss: 0.2765 - accuracy: 1.0000\n",
      "Epoch 17: val_loss did not improve from 0.37920\n",
      "14/14 [==============================] - 0s 6ms/step - loss: 0.3225 - accuracy: 0.9174 - val_loss: 0.3964 - val_accuracy: 0.8511\n",
      "Epoch 18/100\n",
      " 1/14 [=>............................] - ETA: 0s - loss: 0.5588 - accuracy: 0.6250\n",
      "Epoch 18: val_loss did not improve from 0.37920\n",
      "14/14 [==============================] - 0s 6ms/step - loss: 0.3109 - accuracy: 0.9083 - val_loss: 0.3857 - val_accuracy: 0.8511\n",
      "Epoch 19/100\n",
      " 1/14 [=>............................] - ETA: 0s - loss: 0.2962 - accuracy: 0.8750\n",
      "Epoch 19: val_loss did not improve from 0.37920\n",
      "14/14 [==============================] - 0s 5ms/step - loss: 0.2923 - accuracy: 0.8991 - val_loss: 0.3964 - val_accuracy: 0.8511\n",
      "Epoch 19: early stopping\n"
     ]
    }
   ],
   "source": [
    "\n",
    "from tensorflow.keras.callbacks import ModelCheckpoint\n",
    "\n",
    "model = keras.Sequential([\n",
    "keras.layers.Dense(80, input_dim=60, activation='relu'),\n",
    "keras.layers.Dense(30, activation='relu'),\n",
    "keras.layers.Dense(15, activation='relu'),\n",
    "keras.layers.Dense(1, activation='sigmoid')\n",
    "])\n",
    "\n",
    "model.compile(loss='binary_crossentropy', optimizer='adam', metrics=['accuracy'])\n",
    "\n",
    "checkpoint = ModelCheckpoint('SOMETHINGELSE', monitor=\"val_loss\", mode=\"min\",\n",
    "\tsave_best_only=True, verbose=1),\n",
    "earlystopping = tf.keras.callbacks.EarlyStopping(monitor='val_loss',verbose=1, patience=5)\n",
    "callbacks = [checkpoint,earlystopping]\n",
    "\n",
    "\n",
    "H = model.fit(x_train, y_train, epochs=100, batch_size=8, validation_split=0.3,callbacks=callbacks) #To discover the training epoch on which training was stopped, the “verbose” argument can be set to 1. Once stopped, the callback will print the epoch number., Add \"patience\" to wait for sometime before stopping after the best accuracy or val_loss has been found.\n"
   ]
  },
  {
   "cell_type": "code",
   "execution_count": 25,
   "metadata": {},
   "outputs": [
    {
     "name": "stdout",
     "output_type": "stream",
     "text": [
      "2/2 [==============================] - 0s 7ms/step - loss: 0.4257 - accuracy: 0.7692\n",
      "Test Accuracy:  76.92307829856873\n"
     ]
    }
   ],
   "source": [
    "loss, acc=model.evaluate(x_test, y_test)\n",
    "print('Test Accuracy: ', acc*100)"
   ]
  },
  {
   "cell_type": "code",
   "execution_count": 26,
   "metadata": {},
   "outputs": [
    {
     "name": "stdout",
     "output_type": "stream",
     "text": [
      "5/5 [==============================] - 0s 4ms/step - loss: 0.3060 - accuracy: 0.9103\n",
      "Training Accuracy:  91.02563858032227\n"
     ]
    }
   ],
   "source": [
    "loss, acc = model.evaluate(x_train, y_train)\n",
    "print('Training Accuracy: ', acc*100)"
   ]
  },
  {
   "cell_type": "markdown",
   "metadata": {},
   "source": [
    "# Load best weight"
   ]
  },
  {
   "cell_type": "code",
   "execution_count": 27,
   "metadata": {},
   "outputs": [
    {
     "name": "stdout",
     "output_type": "stream",
     "text": [
      "2/2 [==============================] - 0s 8ms/step - loss: 0.4400 - accuracy: 0.7500\n",
      "[0.4400038719177246, 0.75]\n"
     ]
    }
   ],
   "source": [
    "model = keras.Sequential([\n",
    "keras.layers.Dense(80, input_dim=60, activation='relu'),\n",
    "keras.layers.Dense(30, activation='relu'),\n",
    "keras.layers.Dense(15, activation='relu'),\n",
    "keras.layers.Dense(1, activation='sigmoid')\n",
    "])\n",
    "\n",
    "model.compile(loss='binary_crossentropy', optimizer='adam', metrics=['accuracy'])\n",
    "\n",
    "model.load_weights(\"SOMETHINGELSE\")\n",
    "print(model.evaluate(x_test, y_test))"
   ]
  }
 ],
 "metadata": {
  "kernelspec": {
   "display_name": "Python 3",
   "language": "python",
   "name": "python3"
  },
  "language_info": {
   "codemirror_mode": {
    "name": "ipython",
    "version": 3
   },
   "file_extension": ".py",
   "mimetype": "text/x-python",
   "name": "python",
   "nbconvert_exporter": "python",
   "pygments_lexer": "ipython3",
   "version": "3.8.3"
  }
 },
 "nbformat": 4,
 "nbformat_minor": 4
}
